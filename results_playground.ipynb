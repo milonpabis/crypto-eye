{
 "cells": [
  {
   "cell_type": "code",
   "execution_count": 1,
   "id": "8f42b000-e448-40f9-9004-65aa705f59f0",
   "metadata": {},
   "outputs": [],
   "source": [
    "from models_container.EstimatorsBTC import EstimatorsBTC\n",
    "import matplotlib.pyplot as plt\n",
    "import matplotlib.cm as cm\n",
    "import pandas as pd\n",
    "import seaborn as sns\n",
    "from typing import List\n",
    "\n",
    "import plotly.express as px"
   ]
  },
  {
   "cell_type": "code",
   "execution_count": 3,
   "id": "f651b4ef-4635-435c-b3bc-17bc3aec53c4",
   "metadata": {},
   "outputs": [],
   "source": [
    "WINDOWS = [\"total\", \"7\", \"14\", \"30\"]\n",
    "INFO_COLS = [\"date\", \"model_name\"]\n",
    "PRECISION_COLS = INFO_COLS + [f\"precision_{x}\" for x in WINDOWS]\n",
    "RECALL_COLS = INFO_COLS + [f\"recall_{x}\" for x in WINDOWS]\n",
    "ACCURACY_COLS = INFO_COLS + [f\"accuracy_{x}\" for x in WINDOWS]\n",
    "SPECIFICITY_COLS = INFO_COLS + [f\"specificity_{x}\" for x in WINDOWS]\n",
    "NEG_PRED_COLS = INFO_COLS + [f\"neg_pred_value_{x}\" for x in WINDOWS]"
   ]
  },
  {
   "cell_type": "code",
   "execution_count": 13,
   "id": "3c9f1c59-2c1b-480b-8ad7-9b955d092172",
   "metadata": {},
   "outputs": [
    {
     "name": "stdout",
     "output_type": "stream",
     "text": [
      "Skipped date:  2024-07-12\n"
     ]
    }
   ],
   "source": [
    "btc = EstimatorsBTC()\n",
    "df = btc.modelDB.get_model_performance(\"GradientBoost\")"
   ]
  },
  {
   "cell_type": "code",
   "execution_count": 7,
   "id": "f0a2b462-98eb-45ef-93b3-926d4aa16d38",
   "metadata": {},
   "outputs": [
    {
     "data": {
      "text/html": [
       "<div>\n",
       "<style scoped>\n",
       "    .dataframe tbody tr th:only-of-type {\n",
       "        vertical-align: middle;\n",
       "    }\n",
       "\n",
       "    .dataframe tbody tr th {\n",
       "        vertical-align: top;\n",
       "    }\n",
       "\n",
       "    .dataframe thead th {\n",
       "        text-align: right;\n",
       "    }\n",
       "</style>\n",
       "<table border=\"1\" class=\"dataframe\">\n",
       "  <thead>\n",
       "    <tr style=\"text-align: right;\">\n",
       "      <th></th>\n",
       "      <th>date</th>\n",
       "      <th>model_name</th>\n",
       "      <th>recall_total</th>\n",
       "      <th>precision_total</th>\n",
       "      <th>accuracy_total</th>\n",
       "      <th>specificity_total</th>\n",
       "      <th>neg_pred_value_total</th>\n",
       "      <th>recall_7</th>\n",
       "      <th>precision_7</th>\n",
       "      <th>accuracy_7</th>\n",
       "      <th>...</th>\n",
       "      <th>recall_14</th>\n",
       "      <th>precision_14</th>\n",
       "      <th>accuracy_14</th>\n",
       "      <th>specificity_14</th>\n",
       "      <th>neg_pred_value_14</th>\n",
       "      <th>recall_30</th>\n",
       "      <th>precision_30</th>\n",
       "      <th>accuracy_30</th>\n",
       "      <th>specificity_30</th>\n",
       "      <th>neg_pred_value_30</th>\n",
       "    </tr>\n",
       "  </thead>\n",
       "  <tbody>\n",
       "    <tr>\n",
       "      <th>0</th>\n",
       "      <td>2024-03-01</td>\n",
       "      <td>AdaBoost</td>\n",
       "      <td>0.607143</td>\n",
       "      <td>0.560440</td>\n",
       "      <td>0.513333</td>\n",
       "      <td>0.393939</td>\n",
       "      <td>0.440678</td>\n",
       "      <td>1.0</td>\n",
       "      <td>0.833333</td>\n",
       "      <td>0.857143</td>\n",
       "      <td>...</td>\n",
       "      <td>1.0</td>\n",
       "      <td>0.615385</td>\n",
       "      <td>0.642857</td>\n",
       "      <td>0.166667</td>\n",
       "      <td>1.0</td>\n",
       "      <td>0.800000</td>\n",
       "      <td>0.666667</td>\n",
       "      <td>0.600000</td>\n",
       "      <td>0.200000</td>\n",
       "      <td>0.333333</td>\n",
       "    </tr>\n",
       "    <tr>\n",
       "      <th>1</th>\n",
       "      <td>2024-03-02</td>\n",
       "      <td>AdaBoost</td>\n",
       "      <td>0.611765</td>\n",
       "      <td>0.565217</td>\n",
       "      <td>0.516556</td>\n",
       "      <td>0.393939</td>\n",
       "      <td>0.440678</td>\n",
       "      <td>1.0</td>\n",
       "      <td>0.833333</td>\n",
       "      <td>0.857143</td>\n",
       "      <td>...</td>\n",
       "      <td>1.0</td>\n",
       "      <td>0.615385</td>\n",
       "      <td>0.642857</td>\n",
       "      <td>0.166667</td>\n",
       "      <td>1.0</td>\n",
       "      <td>0.850000</td>\n",
       "      <td>0.680000</td>\n",
       "      <td>0.633333</td>\n",
       "      <td>0.200000</td>\n",
       "      <td>0.400000</td>\n",
       "    </tr>\n",
       "    <tr>\n",
       "      <th>2</th>\n",
       "      <td>2024-03-03</td>\n",
       "      <td>AdaBoost</td>\n",
       "      <td>0.616279</td>\n",
       "      <td>0.569892</td>\n",
       "      <td>0.519737</td>\n",
       "      <td>0.393939</td>\n",
       "      <td>0.440678</td>\n",
       "      <td>1.0</td>\n",
       "      <td>0.833333</td>\n",
       "      <td>0.857143</td>\n",
       "      <td>...</td>\n",
       "      <td>1.0</td>\n",
       "      <td>0.692308</td>\n",
       "      <td>0.714286</td>\n",
       "      <td>0.200000</td>\n",
       "      <td>1.0</td>\n",
       "      <td>0.857143</td>\n",
       "      <td>0.720000</td>\n",
       "      <td>0.666667</td>\n",
       "      <td>0.222222</td>\n",
       "      <td>0.400000</td>\n",
       "    </tr>\n",
       "    <tr>\n",
       "      <th>3</th>\n",
       "      <td>2024-03-04</td>\n",
       "      <td>AdaBoost</td>\n",
       "      <td>0.616279</td>\n",
       "      <td>0.563830</td>\n",
       "      <td>0.516340</td>\n",
       "      <td>0.388060</td>\n",
       "      <td>0.440678</td>\n",
       "      <td>1.0</td>\n",
       "      <td>0.666667</td>\n",
       "      <td>0.714286</td>\n",
       "      <td>...</td>\n",
       "      <td>1.0</td>\n",
       "      <td>0.615385</td>\n",
       "      <td>0.642857</td>\n",
       "      <td>0.166667</td>\n",
       "      <td>1.0</td>\n",
       "      <td>0.857143</td>\n",
       "      <td>0.692308</td>\n",
       "      <td>0.633333</td>\n",
       "      <td>0.111111</td>\n",
       "      <td>0.250000</td>\n",
       "    </tr>\n",
       "    <tr>\n",
       "      <th>4</th>\n",
       "      <td>2024-03-05</td>\n",
       "      <td>AdaBoost</td>\n",
       "      <td>0.620690</td>\n",
       "      <td>0.568421</td>\n",
       "      <td>0.519481</td>\n",
       "      <td>0.388060</td>\n",
       "      <td>0.440678</td>\n",
       "      <td>1.0</td>\n",
       "      <td>0.666667</td>\n",
       "      <td>0.714286</td>\n",
       "      <td>...</td>\n",
       "      <td>1.0</td>\n",
       "      <td>0.692308</td>\n",
       "      <td>0.714286</td>\n",
       "      <td>0.200000</td>\n",
       "      <td>1.0</td>\n",
       "      <td>0.904762</td>\n",
       "      <td>0.703704</td>\n",
       "      <td>0.666667</td>\n",
       "      <td>0.111111</td>\n",
       "      <td>0.333333</td>\n",
       "    </tr>\n",
       "  </tbody>\n",
       "</table>\n",
       "<p>5 rows × 22 columns</p>\n",
       "</div>"
      ],
      "text/plain": [
       "         date model_name  recall_total  precision_total  accuracy_total  \\\n",
       "0  2024-03-01   AdaBoost      0.607143         0.560440        0.513333   \n",
       "1  2024-03-02   AdaBoost      0.611765         0.565217        0.516556   \n",
       "2  2024-03-03   AdaBoost      0.616279         0.569892        0.519737   \n",
       "3  2024-03-04   AdaBoost      0.616279         0.563830        0.516340   \n",
       "4  2024-03-05   AdaBoost      0.620690         0.568421        0.519481   \n",
       "\n",
       "   specificity_total  neg_pred_value_total  recall_7  precision_7  accuracy_7  \\\n",
       "0           0.393939              0.440678       1.0     0.833333    0.857143   \n",
       "1           0.393939              0.440678       1.0     0.833333    0.857143   \n",
       "2           0.393939              0.440678       1.0     0.833333    0.857143   \n",
       "3           0.388060              0.440678       1.0     0.666667    0.714286   \n",
       "4           0.388060              0.440678       1.0     0.666667    0.714286   \n",
       "\n",
       "   ...  recall_14  precision_14  accuracy_14  specificity_14  \\\n",
       "0  ...        1.0      0.615385     0.642857        0.166667   \n",
       "1  ...        1.0      0.615385     0.642857        0.166667   \n",
       "2  ...        1.0      0.692308     0.714286        0.200000   \n",
       "3  ...        1.0      0.615385     0.642857        0.166667   \n",
       "4  ...        1.0      0.692308     0.714286        0.200000   \n",
       "\n",
       "   neg_pred_value_14  recall_30  precision_30  accuracy_30  specificity_30  \\\n",
       "0                1.0   0.800000      0.666667     0.600000        0.200000   \n",
       "1                1.0   0.850000      0.680000     0.633333        0.200000   \n",
       "2                1.0   0.857143      0.720000     0.666667        0.222222   \n",
       "3                1.0   0.857143      0.692308     0.633333        0.111111   \n",
       "4                1.0   0.904762      0.703704     0.666667        0.111111   \n",
       "\n",
       "   neg_pred_value_30  \n",
       "0           0.333333  \n",
       "1           0.400000  \n",
       "2           0.400000  \n",
       "3           0.250000  \n",
       "4           0.333333  \n",
       "\n",
       "[5 rows x 22 columns]"
      ]
     },
     "execution_count": 7,
     "metadata": {},
     "output_type": "execute_result"
    }
   ],
   "source": [
    "df.head()"
   ]
  },
  {
   "cell_type": "code",
   "execution_count": 170,
   "id": "e302d40d-4221-48d5-90c0-418b7799ff5a",
   "metadata": {},
   "outputs": [
    {
     "data": {
      "image/png": "[encoded data removed]",
      "text/plain": [
       "<Figure size 1500x750 with 1 Axes>"
      ]
     },
     "metadata": {},
     "output_type": "display_data"
    }
   ],
   "source": [
    "def get_plot(estimator: str, metrics: List[str], windows: List[str]):\n",
    "    colormaps = {\"recall\": [\"#3333ff\", \"#6666ff\", \"#9999ff\", \"#ccccff\"],\n",
    "                 \"precision\": [\"#e60000\", \"#ff1a1a\", \"#ff4d4d\", \"#ff8080\"],\n",
    "                 \"accuracy\": [\"#00cc00\", \"#00ff00\", \"#33ff33\", \"#66ff66\"],\n",
    "                 \"specificity\": [\"#663300\", \"#994d00\", \"#cc6600\", \"#ff8000\"],\n",
    "                 \"neg_pred_value\": [\"#990099\", \"#cc00cc\", \"#ff00ff\", \"#ff33ff\"]}\n",
    "\n",
    "    labels = []\n",
    "    df = btc.modelDB.get_model_performance(estimator)\n",
    "    fig, ax = plt.subplots(figsize=(10,5), dpi=150)\n",
    "    for idx, metric in enumerate(metrics):\n",
    "        for idx_lwa, window in enumerate(windows):\n",
    "            df[[\"date\", f\"{metric}_{window}\"]].plot(x=\"date\", ax=ax, linewidth=len(windows)-idx_lwa, c=colormaps[metric][idx_lwa], alpha=1 - idx_lwa*0.15)\n",
    "            labels.append(f\"{metric.capitalize()} Score Across {'Last ' + window if window != 'total' else 'All'} Days\")\n",
    "\n",
    "    plt.axhline(0.5, linestyle=\"--\", color=\"black\", alpha=0.2)\n",
    "    ax.grid()\n",
    "    ax.legend(bbox_to_anchor=(1.05, 1), loc='upper left', labels=labels)\n",
    "    ax.set_title(estimator, weight=\"bold\")\n",
    "    ax.set_xlabel(\"Date\")\n",
    "    ax.set_ylabel(\"Score\")\n",
    "\n",
    "    return fig\n",
    "\n",
    "get_plot(\"RandomForest\", [\"precision\"], [\"total\", \"30\", \"14\"])\n",
    "\n",
    "plt.show()"
   ]
  },
  {
   "cell_type": "code",
   "execution_count": 29,
   "id": "142948e6-a637-4000-abe2-4049444bbedf",
   "metadata": {},
   "outputs": [
    {
     "data": {
      "application/vnd.plotly.v1+json": {
       "config": {
        "plotlyServerURL": "https://plot.ly"
       },
       "data": [
        {
         "hovertemplate": "date=%{x}<br>precision_30=%{y}<extra></extra>",
         "legendgroup": "",
         "line": {
          "color": "#636efa",
          "dash": "solid"
         },
         "marker": {
          "symbol": "circle"
         },
         "mode": "markers+lines",
         "name": "",
         "orientation": "v",
         "showlegend": false,
         "type": "scatter",
         "x": [
          "2024-03-01",
          "2024-03-02",
          "2024-03-03",
          "2024-03-04",
          "2024-03-05",
          "2024-03-06",
          "2024-03-07",
          "2024-03-08",
          "2024-03-09",
          "2024-03-10",
          "2024-03-11",
          "2024-03-12",
          "2024-03-13",
          "2024-03-14",
          "2024-03-15",
          "2024-03-16",
          "2024-03-17",
          "2024-03-18",
          "2024-03-19",
          "2024-03-20",
          "2024-03-21",
          "2024-03-22",
          "2024-03-23",
          "2024-03-24",
          "2024-03-25",
          "2024-03-26",
          "2024-03-27",
          "2024-03-28",
          "2024-03-29",
          "2024-03-30",
          "2024-03-31",
          "2024-04-01",
          "2024-04-02",
          "2024-04-03",
          "2024-04-04",
          "2024-04-05",
          "2024-04-06",
          "2024-04-07",
          "2024-04-08",
          "2024-04-09",
          "2024-04-10",
          "2024-04-11",
          "2024-04-12",
          "2024-04-13",
          "2024-04-14",
          "2024-04-15",
          "2024-04-16",
          "2024-04-17",
          "2024-04-18",
          "2024-04-19",
          "2024-04-20",
          "2024-04-21",
          "2024-04-22",
          "2024-04-23",
          "2024-04-24",
          "2024-04-25",
          "2024-04-26",
          "2024-04-27",
          "2024-04-28",
          "2024-04-29",
          "2024-04-30",
          "2024-05-01",
          "2024-05-02",
          "2024-05-03",
          "2024-05-04",
          "2024-05-05",
          "2024-05-06",
          "2024-05-07",
          "2024-05-08",
          "2024-05-09",
          "2024-05-10",
          "2024-05-11",
          "2024-05-12",
          "2024-05-13",
          "2024-05-14",
          "2024-05-15",
          "2024-05-16",
          "2024-05-17",
          "2024-05-18",
          "2024-05-19",
          "2024-05-20",
          "2024-05-21",
          "2024-05-22",
          "2024-05-23",
          "2024-05-24",
          "2024-05-25",
          "2024-05-26",
          "2024-05-27",
          "2024-05-28",
          "2024-05-29",
          "2024-05-30",
          "2024-05-31",
          "2024-06-01",
          "2024-06-02",
          "2024-06-03",
          "2024-06-04",
          "2024-06-05",
          "2024-06-06",
          "2024-06-07",
          "2024-06-08",
          "2024-06-09",
          "2024-06-10",
          "2024-06-11",
          "2024-06-12",
          "2024-06-13",
          "2024-06-14",
          "2024-06-15",
          "2024-06-16",
          "2024-06-17",
          "2024-06-18",
          "2024-06-19",
          "2024-06-20",
          "2024-06-21",
          "2024-06-22",
          "2024-06-23",
          "2024-06-24",
          "2024-06-25",
          "2024-06-26",
          "2024-06-27",
          "2024-06-28",
          "2024-06-29",
          "2024-06-30",
          "2024-07-01",
          "2024-07-02",
          "2024-07-03",
          "2024-07-04",
          "2024-07-05",
          "2024-07-06",
          "2024-07-07",
          "2024-07-08",
          "2024-07-09",
          "2024-07-10",
          "2024-07-11"
         ],
         "xaxis": "x",
         "y": [
          0.7,
          0.7142857142857143,
          0.75,
          0.7142857142857143,
          0.7142857142857143,
          0.7,
          0.7142857142857143,
          0.7272727272727273,
          0.7142857142857143,
          0.7142857142857143,
          0.6666666666666666,
          0.6818181818181818,
          0.6818181818181818,
          0.6666666666666666,
          0.6666666666666666,
          0.65,
          0.6842105263157895,
          0.6666666666666666,
          0.6666666666666666,
          0.6470588235294118,
          0.6470588235294118,
          0.6875,
          0.7333333333333333,
          0.7333333333333333,
          0.7142857142857143,
          0.6923076923076923,
          0.6666666666666666,
          0.6363636363636364,
          0.5833333333333334,
          0.5833333333333334,
          0.6363636363636364,
          0.6,
          0.6,
          0.7,
          0.6666666666666666,
          0.6666666666666666,
          0.625,
          0.5714285714285714,
          0.5714285714285714,
          0.5,
          0.6,
          0.4,
          0.5,
          0.5,
          0.4,
          0.4,
          0.3333333333333333,
          0.42857142857142855,
          0.42857142857142855,
          0.42857142857142855,
          0.375,
          0.375,
          0.375,
          0.2857142857142857,
          0.2857142857142857,
          0.2857142857142857,
          0.25,
          0.2222222222222222,
          0.3333333333333333,
          0.3333333333333333,
          0.3,
          0.36363636363636365,
          0.4166666666666667,
          0.4166666666666667,
          0.4166666666666667,
          0.4166666666666667,
          0.4166666666666667,
          0.4166666666666667,
          0.4166666666666667,
          0.38461538461538464,
          0.38461538461538464,
          0.4166666666666667,
          0.46153846153846156,
          0.46153846153846156,
          0.5,
          0.5,
          0.5454545454545454,
          0.5,
          0.5,
          0.5,
          0.5555555555555556,
          0.5,
          0.5,
          0.5,
          0.5,
          0.5,
          0.5555555555555556,
          0.625,
          0.5714285714285714,
          0.5714285714285714,
          0.6666666666666666,
          0.6,
          0.5,
          0.3333333333333333,
          0.3333333333333333,
          0.3333333333333333,
          0.3333333333333333,
          0.25,
          0.25,
          0.3333333333333333,
          0.3333333333333333,
          0.25,
          0,
          0,
          0,
          0.25,
          0.4,
          0.4,
          0.4,
          0.4,
          0.3333333333333333,
          0.3333333333333333,
          0.3333333333333333,
          0.2857142857142857,
          0.25,
          0.3333333333333333,
          0.3,
          0.36363636363636365,
          0.3333333333333333,
          0.38461538461538464,
          0.42857142857142855,
          0.42857142857142855,
          0.42857142857142855,
          0.42857142857142855,
          0.42857142857142855,
          0.4,
          0.4375,
          0.4375,
          0.47058823529411764,
          0.5,
          0.47368421052631576,
          0.5,
          0.5
         ],
         "yaxis": "y"
        }
       ],
       "layout": {
        "autosize": true,
        "legend": {
         "tracegroupgap": 0
        },
        "margin": {
         "t": 60
        },
        "template": {
         "data": {
          "bar": [
           {
            "error_x": {
             "color": "#2a3f5f"
            },
            "error_y": {
             "color": "#2a3f5f"
            },
            "marker": {
             "line": {
              "color": "#E5ECF6",
              "width": 0.5
             },
             "pattern": {
              "fillmode": "overlay",
              "size": 10,
              "solidity": 0.2
             }
            },
            "type": "bar"
           }
          ],
          "barpolar": [
           {
            "marker": {
             "line": {
              "color": "#E5ECF6",
              "width": 0.5
             },
             "pattern": {
              "fillmode": "overlay",
              "size": 10,
              "solidity": 0.2
             }
            },
            "type": "barpolar"
           }
          ],
          "carpet": [
           {
            "aaxis": {
             "endlinecolor": "#2a3f5f",
             "gridcolor": "white",
             "linecolor": "white",
             "minorgridcolor": "white",
             "startlinecolor": "#2a3f5f"
            },
            "baxis": {
             "endlinecolor": "#2a3f5f",
             "gridcolor": "white",
             "linecolor": "white",
             "minorgridcolor": "white",
             "startlinecolor": "#2a3f5f"
            },
            "type": "carpet"
           }
          ],
          "choropleth": [
           {
            "colorbar": {
             "outlinewidth": 0,
             "ticks": ""
            },
            "type": "choropleth"
           }
          ],
          "contour": [
           {
            "colorbar": {
             "outlinewidth": 0,
             "ticks": ""
            },
            "colorscale": [
             [
              0,
              "#0d0887"
             ],
             [
              0.1111111111111111,
              "#46039f"
             ],
             [
              0.2222222222222222,
              "#7201a8"
             ],
             [
              0.3333333333333333,
              "#9c179e"
             ],
             [
              0.4444444444444444,
              "#bd3786"
             ],
             [
              0.5555555555555556,
              "#d8576b"
             ],
             [
              0.6666666666666666,
              "#ed7953"
             ],
             [
              0.7777777777777778,
              "#fb9f3a"
             ],
             [
              0.8888888888888888,
              "#fdca26"
             ],
             [
              1,
              "#f0f921"
             ]
            ],
            "type": "contour"
           }
          ],
          "contourcarpet": [
           {
            "colorbar": {
             "outlinewidth": 0,
             "ticks": ""
            },
            "type": "contourcarpet"
           }
          ],
          "heatmap": [
           {
            "colorbar": {
             "outlinewidth": 0,
             "ticks": ""
            },
            "colorscale": [
             [
              0,
              "#0d0887"
             ],
             [
              0.1111111111111111,
              "#46039f"
             ],
             [
              0.2222222222222222,
              "#7201a8"
             ],
             [
              0.3333333333333333,
              "#9c179e"
             ],
             [
              0.4444444444444444,
              "#bd3786"
             ],
             [
              0.5555555555555556,
              "#d8576b"
             ],
             [
              0.6666666666666666,
              "#ed7953"
             ],
             [
              0.7777777777777778,
              "#fb9f3a"
             ],
             [
              0.8888888888888888,
              "#fdca26"
             ],
             [
              1,
              "#f0f921"
             ]
            ],
            "type": "heatmap"
           }
          ],
          "heatmapgl": [
           {
            "colorbar": {
             "outlinewidth": 0,
             "ticks": ""
            },
            "colorscale": [
             [
              0,
              "#0d0887"
             ],
             [
              0.1111111111111111,
              "#46039f"
             ],
             [
              0.2222222222222222,
              "#7201a8"
             ],
             [
              0.3333333333333333,
              "#9c179e"
             ],
             [
              0.4444444444444444,
              "#bd3786"
             ],
             [
              0.5555555555555556,
              "#d8576b"
             ],
             [
              0.6666666666666666,
              "#ed7953"
             ],
             [
              0.7777777777777778,
              "#fb9f3a"
             ],
             [
              0.8888888888888888,
              "#fdca26"
             ],
             [
              1,
              "#f0f921"
             ]
            ],
            "type": "heatmapgl"
           }
          ],
          "histogram": [
           {
            "marker": {
             "pattern": {
              "fillmode": "overlay",
              "size": 10,
              "solidity": 0.2
             }
            },
            "type": "histogram"
           }
          ],
          "histogram2d": [
           {
            "colorbar": {
             "outlinewidth": 0,
             "ticks": ""
            },
            "colorscale": [
             [
              0,
              "#0d0887"
             ],
             [
              0.1111111111111111,
              "#46039f"
             ],
             [
              0.2222222222222222,
              "#7201a8"
             ],
             [
              0.3333333333333333,
              "#9c179e"
             ],
             [
              0.4444444444444444,
              "#bd3786"
             ],
             [
              0.5555555555555556,
              "#d8576b"
             ],
             [
              0.6666666666666666,
              "#ed7953"
             ],
             [
              0.7777777777777778,
              "#fb9f3a"
             ],
             [
              0.8888888888888888,
              "#fdca26"
             ],
             [
              1,
              "#f0f921"
             ]
            ],
            "type": "histogram2d"
           }
          ],
          "histogram2dcontour": [
           {
            "colorbar": {
             "outlinewidth": 0,
             "ticks": ""
            },
            "colorscale": [
             [
              0,
              "#0d0887"
             ],
             [
              0.1111111111111111,
              "#46039f"
             ],
             [
              0.2222222222222222,
              "#7201a8"
             ],
             [
              0.3333333333333333,
              "#9c179e"
             ],
             [
              0.4444444444444444,
              "#bd3786"
             ],
             [
              0.5555555555555556,
              "#d8576b"
             ],
             [
              0.6666666666666666,
              "#ed7953"
             ],
             [
              0.7777777777777778,
              "#fb9f3a"
             ],
             [
              0.8888888888888888,
              "#fdca26"
             ],
             [
              1,
              "#f0f921"
             ]
            ],
            "type": "histogram2dcontour"
           }
          ],
          "mesh3d": [
           {
            "colorbar": {
             "outlinewidth": 0,
             "ticks": ""
            },
            "type": "mesh3d"
           }
          ],
          "parcoords": [
           {
            "line": {
             "colorbar": {
              "outlinewidth": 0,
              "ticks": ""
             }
            },
            "type": "parcoords"
           }
          ],
          "pie": [
           {
            "automargin": true,
            "type": "pie"
           }
          ],
          "scatter": [
           {
            "fillpattern": {
             "fillmode": "overlay",
             "size": 10,
             "solidity": 0.2
            },
            "type": "scatter"
           }
          ],
          "scatter3d": [
           {
            "line": {
             "colorbar": {
              "outlinewidth": 0,
              "ticks": ""
             }
            },
            "marker": {
             "colorbar": {
              "outlinewidth": 0,
              "ticks": ""
             }
            },
            "type": "scatter3d"
           }
          ],
          "scattercarpet": [
           {
            "marker": {
             "colorbar": {
              "outlinewidth": 0,
              "ticks": ""
             }
            },
            "type": "scattercarpet"
           }
          ],
          "scattergeo": [
           {
            "marker": {
             "colorbar": {
              "outlinewidth": 0,
              "ticks": ""
             }
            },
            "type": "scattergeo"
           }
          ],
          "scattergl": [
           {
            "marker": {
             "colorbar": {
              "outlinewidth": 0,
              "ticks": ""
             }
            },
            "type": "scattergl"
           }
          ],
          "scattermapbox": [
           {
            "marker": {
             "colorbar": {
              "outlinewidth": 0,
              "ticks": ""
             }
            },
            "type": "scattermapbox"
           }
          ],
          "scatterpolar": [
           {
            "marker": {
             "colorbar": {
              "outlinewidth": 0,
              "ticks": ""
             }
            },
            "type": "scatterpolar"
           }
          ],
          "scatterpolargl": [
           {
            "marker": {
             "colorbar": {
              "outlinewidth": 0,
              "ticks": ""
             }
            },
            "type": "scatterpolargl"
           }
          ],
          "scatterternary": [
           {
            "marker": {
             "colorbar": {
              "outlinewidth": 0,
              "ticks": ""
             }
            },
            "type": "scatterternary"
           }
          ],
          "surface": [
           {
            "colorbar": {
             "outlinewidth": 0,
             "ticks": ""
            },
            "colorscale": [
             [
              0,
              "#0d0887"
             ],
             [
              0.1111111111111111,
              "#46039f"
             ],
             [
              0.2222222222222222,
              "#7201a8"
             ],
             [
              0.3333333333333333,
              "#9c179e"
             ],
             [
              0.4444444444444444,
              "#bd3786"
             ],
             [
              0.5555555555555556,
              "#d8576b"
             ],
             [
              0.6666666666666666,
              "#ed7953"
             ],
             [
              0.7777777777777778,
              "#fb9f3a"
             ],
             [
              0.8888888888888888,
              "#fdca26"
             ],
             [
              1,
              "#f0f921"
             ]
            ],
            "type": "surface"
           }
          ],
          "table": [
           {
            "cells": {
             "fill": {
              "color": "#EBF0F8"
             },
             "line": {
              "color": "white"
             }
            },
            "header": {
             "fill": {
              "color": "#C8D4E3"
             },
             "line": {
              "color": "white"
             }
            },
            "type": "table"
           }
          ]
         },
         "layout": {
          "annotationdefaults": {
           "arrowcolor": "#2a3f5f",
           "arrowhead": 0,
           "arrowwidth": 1
          },
          "autotypenumbers": "strict",
          "coloraxis": {
           "colorbar": {
            "outlinewidth": 0,
            "ticks": ""
           }
          },
          "colorscale": {
           "diverging": [
            [
             0,
             "#8e0152"
            ],
            [
             0.1,
             "#c51b7d"
            ],
            [
             0.2,
             "#de77ae"
            ],
            [
             0.3,
             "#f1b6da"
            ],
            [
             0.4,
             "#fde0ef"
            ],
            [
             0.5,
             "#f7f7f7"
            ],
            [
             0.6,
             "#e6f5d0"
            ],
            [
             0.7,
             "#b8e186"
            ],
            [
             0.8,
             "#7fbc41"
            ],
            [
             0.9,
             "#4d9221"
            ],
            [
             1,
             "#276419"
            ]
           ],
           "sequential": [
            [
             0,
             "#0d0887"
            ],
            [
             0.1111111111111111,
             "#46039f"
            ],
            [
             0.2222222222222222,
             "#7201a8"
            ],
            [
             0.3333333333333333,
             "#9c179e"
            ],
            [
             0.4444444444444444,
             "#bd3786"
            ],
            [
             0.5555555555555556,
             "#d8576b"
            ],
            [
             0.6666666666666666,
             "#ed7953"
            ],
            [
             0.7777777777777778,
             "#fb9f3a"
            ],
            [
             0.8888888888888888,
             "#fdca26"
            ],
            [
             1,
             "#f0f921"
            ]
           ],
           "sequentialminus": [
            [
             0,
             "#0d0887"
            ],
            [
             0.1111111111111111,
             "#46039f"
            ],
            [
             0.2222222222222222,
             "#7201a8"
            ],
            [
             0.3333333333333333,
             "#9c179e"
            ],
            [
             0.4444444444444444,
             "#bd3786"
            ],
            [
             0.5555555555555556,
             "#d8576b"
            ],
            [
             0.6666666666666666,
             "#ed7953"
            ],
            [
             0.7777777777777778,
             "#fb9f3a"
            ],
            [
             0.8888888888888888,
             "#fdca26"
            ],
            [
             1,
             "#f0f921"
            ]
           ]
          },
          "colorway": [
           "#636efa",
           "#EF553B",
           "#00cc96",
           "#ab63fa",
           "#FFA15A",
           "#19d3f3",
           "#FF6692",
           "#B6E880",
           "#FF97FF",
           "#FECB52"
          ],
          "font": {
           "color": "#2a3f5f"
          },
          "geo": {
           "bgcolor": "white",
           "lakecolor": "white",
           "landcolor": "#E5ECF6",
           "showlakes": true,
           "showland": true,
           "subunitcolor": "white"
          },
          "hoverlabel": {
           "align": "left"
          },
          "hovermode": "closest",
          "mapbox": {
           "style": "light"
          },
          "paper_bgcolor": "white",
          "plot_bgcolor": "#E5ECF6",
          "polar": {
           "angularaxis": {
            "gridcolor": "white",
            "linecolor": "white",
            "ticks": ""
           },
           "bgcolor": "#E5ECF6",
           "radialaxis": {
            "gridcolor": "white",
            "linecolor": "white",
            "ticks": ""
           }
          },
          "scene": {
           "xaxis": {
            "backgroundcolor": "#E5ECF6",
            "gridcolor": "white",
            "gridwidth": 2,
            "linecolor": "white",
            "showbackground": true,
            "ticks": "",
            "zerolinecolor": "white"
           },
           "yaxis": {
            "backgroundcolor": "#E5ECF6",
            "gridcolor": "white",
            "gridwidth": 2,
            "linecolor": "white",
            "showbackground": true,
            "ticks": "",
            "zerolinecolor": "white"
           },
           "zaxis": {
            "backgroundcolor": "#E5ECF6",
            "gridcolor": "white",
            "gridwidth": 2,
            "linecolor": "white",
            "showbackground": true,
            "ticks": "",
            "zerolinecolor": "white"
           }
          },
          "shapedefaults": {
           "line": {
            "color": "#2a3f5f"
           }
          },
          "ternary": {
           "aaxis": {
            "gridcolor": "white",
            "linecolor": "white",
            "ticks": ""
           },
           "baxis": {
            "gridcolor": "white",
            "linecolor": "white",
            "ticks": ""
           },
           "bgcolor": "#E5ECF6",
           "caxis": {
            "gridcolor": "white",
            "linecolor": "white",
            "ticks": ""
           }
          },
          "title": {
           "x": 0.05
          },
          "xaxis": {
           "automargin": true,
           "gridcolor": "white",
           "linecolor": "white",
           "ticks": "",
           "title": {
            "standoff": 15
           },
           "zerolinecolor": "white",
           "zerolinewidth": 2
          },
          "yaxis": {
           "automargin": true,
           "gridcolor": "white",
           "linecolor": "white",
           "ticks": "",
           "title": {
            "standoff": 15
           },
           "zerolinecolor": "white",
           "zerolinewidth": 2
          }
         }
        },
        "xaxis": {
         "anchor": "y",
         "autorange": true,
         "domain": [
          0,
          1
         ],
         "range": [
          "2024-02-22 00:18:29.2725",
          "2024-07-18 23:41:30.7275"
         ],
         "title": {
          "text": "date"
         },
         "type": "date"
        },
        "yaxis": {
         "anchor": "x",
         "autorange": true,
         "domain": [
          0,
          1
         ],
         "range": [
          -0.058070866141732284,
          0.8080708661417323
         ],
         "title": {
          "text": "precision_30"
         },
         "type": "linear"
        }
       }
      },
      "image/png": "[encoded data removed]",
      "text/html": [
       "<div>                            <div id=\"2edd393d-8987-4ebd-9be1-d24d3ef5e36c\" class=\"plotly-graph-div\" style=\"height:525px; width:100%;\"></div>            <script type=\"text/javascript\">                require([\"plotly\"], function(Plotly) {                    window.PLOTLYENV=window.PLOTLYENV || {};                                    if (document.getElementById(\"2edd393d-8987-4ebd-9be1-d24d3ef5e36c\")) {                    Plotly.newPlot(                        \"2edd393d-8987-4ebd-9be1-d24d3ef5e36c\",                        [{\"hovertemplate\":\"date=%{x}<br>precision_30=%{y}<extra></extra>\",\"legendgroup\":\"\",\"line\":{\"color\":\"#636efa\",\"dash\":\"solid\"},\"marker\":{\"symbol\":\"circle\"},\"mode\":\"markers+lines\",\"name\":\"\",\"orientation\":\"v\",\"showlegend\":false,\"x\":[\"2024-03-01\",\"2024-03-02\",\"2024-03-03\",\"2024-03-04\",\"2024-03-05\",\"2024-03-06\",\"2024-03-07\",\"2024-03-08\",\"2024-03-09\",\"2024-03-10\",\"2024-03-11\",\"2024-03-12\",\"2024-03-13\",\"2024-03-14\",\"2024-03-15\",\"2024-03-16\",\"2024-03-17\",\"2024-03-18\",\"2024-03-19\",\"2024-03-20\",\"2024-03-21\",\"2024-03-22\",\"2024-03-23\",\"2024-03-24\",\"2024-03-25\",\"2024-03-26\",\"2024-03-27\",\"2024-03-28\",\"2024-03-29\",\"2024-03-30\",\"2024-03-31\",\"2024-04-01\",\"2024-04-02\",\"2024-04-03\",\"2024-04-04\",\"2024-04-05\",\"2024-04-06\",\"2024-04-07\",\"2024-04-08\",\"2024-04-09\",\"2024-04-10\",\"2024-04-11\",\"2024-04-12\",\"2024-04-13\",\"2024-04-14\",\"2024-04-15\",\"2024-04-16\",\"2024-04-17\",\"2024-04-18\",\"2024-04-19\",\"2024-04-20\",\"2024-04-21\",\"2024-04-22\",\"2024-04-23\",\"2024-04-24\",\"2024-04-25\",\"2024-04-26\",\"2024-04-27\",\"2024-04-28\",\"2024-04-29\",\"2024-04-30\",\"2024-05-01\",\"2024-05-02\",\"2024-05-03\",\"2024-05-04\",\"2024-05-05\",\"2024-05-06\",\"2024-05-07\",\"2024-05-08\",\"2024-05-09\",\"2024-05-10\",\"2024-05-11\",\"2024-05-12\",\"2024-05-13\",\"2024-05-14\",\"2024-05-15\",\"2024-05-16\",\"2024-05-17\",\"2024-05-18\",\"2024-05-19\",\"2024-05-20\",\"2024-05-21\",\"2024-05-22\",\"2024-05-23\",\"2024-05-24\",\"2024-05-25\",\"2024-05-26\",\"2024-05-27\",\"2024-05-28\",\"2024-05-29\",\"2024-05-30\",\"2024-05-31\",\"2024-06-01\",\"2024-06-02\",\"2024-06-03\",\"2024-06-04\",\"2024-06-05\",\"2024-06-06\",\"2024-06-07\",\"2024-06-08\",\"2024-06-09\",\"2024-06-10\",\"2024-06-11\",\"2024-06-12\",\"2024-06-13\",\"2024-06-14\",\"2024-06-15\",\"2024-06-16\",\"2024-06-17\",\"2024-06-18\",\"2024-06-19\",\"2024-06-20\",\"2024-06-21\",\"2024-06-22\",\"2024-06-23\",\"2024-06-24\",\"2024-06-25\",\"2024-06-26\",\"2024-06-27\",\"2024-06-28\",\"2024-06-29\",\"2024-06-30\",\"2024-07-01\",\"2024-07-02\",\"2024-07-03\",\"2024-07-04\",\"2024-07-05\",\"2024-07-06\",\"2024-07-07\",\"2024-07-08\",\"2024-07-09\",\"2024-07-10\",\"2024-07-11\"],\"xaxis\":\"x\",\"y\":[0.7,0.7142857142857143,0.75,0.7142857142857143,0.7142857142857143,0.7,0.7142857142857143,0.7272727272727273,0.7142857142857143,0.7142857142857143,0.6666666666666666,0.6818181818181818,0.6818181818181818,0.6666666666666666,0.6666666666666666,0.65,0.6842105263157895,0.6666666666666666,0.6666666666666666,0.6470588235294118,0.6470588235294118,0.6875,0.7333333333333333,0.7333333333333333,0.7142857142857143,0.6923076923076923,0.6666666666666666,0.6363636363636364,0.5833333333333334,0.5833333333333334,0.6363636363636364,0.6,0.6,0.7,0.6666666666666666,0.6666666666666666,0.625,0.5714285714285714,0.5714285714285714,0.5,0.6,0.4,0.5,0.5,0.4,0.4,0.3333333333333333,0.42857142857142855,0.42857142857142855,0.42857142857142855,0.375,0.375,0.375,0.2857142857142857,0.2857142857142857,0.2857142857142857,0.25,0.2222222222222222,0.3333333333333333,0.3333333333333333,0.3,0.36363636363636365,0.4166666666666667,0.4166666666666667,0.4166666666666667,0.4166666666666667,0.4166666666666667,0.4166666666666667,0.4166666666666667,0.38461538461538464,0.38461538461538464,0.4166666666666667,0.46153846153846156,0.46153846153846156,0.5,0.5,0.5454545454545454,0.5,0.5,0.5,0.5555555555555556,0.5,0.5,0.5,0.5,0.5,0.5555555555555556,0.625,0.5714285714285714,0.5714285714285714,0.6666666666666666,0.6,0.5,0.3333333333333333,0.3333333333333333,0.3333333333333333,0.3333333333333333,0.25,0.25,0.3333333333333333,0.3333333333333333,0.25,0.0,0.0,0.0,0.25,0.4,0.4,0.4,0.4,0.3333333333333333,0.3333333333333333,0.3333333333333333,0.2857142857142857,0.25,0.3333333333333333,0.3,0.36363636363636365,0.3333333333333333,0.38461538461538464,0.42857142857142855,0.42857142857142855,0.42857142857142855,0.42857142857142855,0.42857142857142855,0.4,0.4375,0.4375,0.47058823529411764,0.5,0.47368421052631576,0.5,0.5],\"yaxis\":\"y\",\"type\":\"scatter\"}],                        {\"template\":{\"data\":{\"histogram2dcontour\":[{\"type\":\"histogram2dcontour\",\"colorbar\":{\"outlinewidth\":0,\"ticks\":\"\"},\"colorscale\":[[0.0,\"#0d0887\"],[0.1111111111111111,\"#46039f\"],[0.2222222222222222,\"#7201a8\"],[0.3333333333333333,\"#9c179e\"],[0.4444444444444444,\"#bd3786\"],[0.5555555555555556,\"#d8576b\"],[0.6666666666666666,\"#ed7953\"],[0.7777777777777778,\"#fb9f3a\"],[0.8888888888888888,\"#fdca26\"],[1.0,\"#f0f921\"]]}],\"choropleth\":[{\"type\":\"choropleth\",\"colorbar\":{\"outlinewidth\":0,\"ticks\":\"\"}}],\"histogram2d\":[{\"type\":\"histogram2d\",\"colorbar\":{\"outlinewidth\":0,\"ticks\":\"\"},\"colorscale\":[[0.0,\"#0d0887\"],[0.1111111111111111,\"#46039f\"],[0.2222222222222222,\"#7201a8\"],[0.3333333333333333,\"#9c179e\"],[0.4444444444444444,\"#bd3786\"],[0.5555555555555556,\"#d8576b\"],[0.6666666666666666,\"#ed7953\"],[0.7777777777777778,\"#fb9f3a\"],[0.8888888888888888,\"#fdca26\"],[1.0,\"#f0f921\"]]}],\"heatmap\":[{\"type\":\"heatmap\",\"colorbar\":{\"outlinewidth\":0,\"ticks\":\"\"},\"colorscale\":[[0.0,\"#0d0887\"],[0.1111111111111111,\"#46039f\"],[0.2222222222222222,\"#7201a8\"],[0.3333333333333333,\"#9c179e\"],[0.4444444444444444,\"#bd3786\"],[0.5555555555555556,\"#d8576b\"],[0.6666666666666666,\"#ed7953\"],[0.7777777777777778,\"#fb9f3a\"],[0.8888888888888888,\"#fdca26\"],[1.0,\"#f0f921\"]]}],\"heatmapgl\":[{\"type\":\"heatmapgl\",\"colorbar\":{\"outlinewidth\":0,\"ticks\":\"\"},\"colorscale\":[[0.0,\"#0d0887\"],[0.1111111111111111,\"#46039f\"],[0.2222222222222222,\"#7201a8\"],[0.3333333333333333,\"#9c179e\"],[0.4444444444444444,\"#bd3786\"],[0.5555555555555556,\"#d8576b\"],[0.6666666666666666,\"#ed7953\"],[0.7777777777777778,\"#fb9f3a\"],[0.8888888888888888,\"#fdca26\"],[1.0,\"#f0f921\"]]}],\"contourcarpet\":[{\"type\":\"contourcarpet\",\"colorbar\":{\"outlinewidth\":0,\"ticks\":\"\"}}],\"contour\":[{\"type\":\"contour\",\"colorbar\":{\"outlinewidth\":0,\"ticks\":\"\"},\"colorscale\":[[0.0,\"#0d0887\"],[0.1111111111111111,\"#46039f\"],[0.2222222222222222,\"#7201a8\"],[0.3333333333333333,\"#9c179e\"],[0.4444444444444444,\"#bd3786\"],[0.5555555555555556,\"#d8576b\"],[0.6666666666666666,\"#ed7953\"],[0.7777777777777778,\"#fb9f3a\"],[0.8888888888888888,\"#fdca26\"],[1.0,\"#f0f921\"]]}],\"surface\":[{\"type\":\"surface\",\"colorbar\":{\"outlinewidth\":0,\"ticks\":\"\"},\"colorscale\":[[0.0,\"#0d0887\"],[0.1111111111111111,\"#46039f\"],[0.2222222222222222,\"#7201a8\"],[0.3333333333333333,\"#9c179e\"],[0.4444444444444444,\"#bd3786\"],[0.5555555555555556,\"#d8576b\"],[0.6666666666666666,\"#ed7953\"],[0.7777777777777778,\"#fb9f3a\"],[0.8888888888888888,\"#fdca26\"],[1.0,\"#f0f921\"]]}],\"mesh3d\":[{\"type\":\"mesh3d\",\"colorbar\":{\"outlinewidth\":0,\"ticks\":\"\"}}],\"scatter\":[{\"fillpattern\":{\"fillmode\":\"overlay\",\"size\":10,\"solidity\":0.2},\"type\":\"scatter\"}],\"parcoords\":[{\"type\":\"parcoords\",\"line\":{\"colorbar\":{\"outlinewidth\":0,\"ticks\":\"\"}}}],\"scatterpolargl\":[{\"type\":\"scatterpolargl\",\"marker\":{\"colorbar\":{\"outlinewidth\":0,\"ticks\":\"\"}}}],\"bar\":[{\"error_x\":{\"color\":\"#2a3f5f\"},\"error_y\":{\"color\":\"#2a3f5f\"},\"marker\":{\"line\":{\"color\":\"#E5ECF6\",\"width\":0.5},\"pattern\":{\"fillmode\":\"overlay\",\"size\":10,\"solidity\":0.2}},\"type\":\"bar\"}],\"scattergeo\":[{\"type\":\"scattergeo\",\"marker\":{\"colorbar\":{\"outlinewidth\":0,\"ticks\":\"\"}}}],\"scatterpolar\":[{\"type\":\"scatterpolar\",\"marker\":{\"colorbar\":{\"outlinewidth\":0,\"ticks\":\"\"}}}],\"histogram\":[{\"marker\":{\"pattern\":{\"fillmode\":\"overlay\",\"size\":10,\"solidity\":0.2}},\"type\":\"histogram\"}],\"scattergl\":[{\"type\":\"scattergl\",\"marker\":{\"colorbar\":{\"outlinewidth\":0,\"ticks\":\"\"}}}],\"scatter3d\":[{\"type\":\"scatter3d\",\"line\":{\"colorbar\":{\"outlinewidth\":0,\"ticks\":\"\"}},\"marker\":{\"colorbar\":{\"outlinewidth\":0,\"ticks\":\"\"}}}],\"scattermapbox\":[{\"type\":\"scattermapbox\",\"marker\":{\"colorbar\":{\"outlinewidth\":0,\"ticks\":\"\"}}}],\"scatterternary\":[{\"type\":\"scatterternary\",\"marker\":{\"colorbar\":{\"outlinewidth\":0,\"ticks\":\"\"}}}],\"scattercarpet\":[{\"type\":\"scattercarpet\",\"marker\":{\"colorbar\":{\"outlinewidth\":0,\"ticks\":\"\"}}}],\"carpet\":[{\"aaxis\":{\"endlinecolor\":\"#2a3f5f\",\"gridcolor\":\"white\",\"linecolor\":\"white\",\"minorgridcolor\":\"white\",\"startlinecolor\":\"#2a3f5f\"},\"baxis\":{\"endlinecolor\":\"#2a3f5f\",\"gridcolor\":\"white\",\"linecolor\":\"white\",\"minorgridcolor\":\"white\",\"startlinecolor\":\"#2a3f5f\"},\"type\":\"carpet\"}],\"table\":[{\"cells\":{\"fill\":{\"color\":\"#EBF0F8\"},\"line\":{\"color\":\"white\"}},\"header\":{\"fill\":{\"color\":\"#C8D4E3\"},\"line\":{\"color\":\"white\"}},\"type\":\"table\"}],\"barpolar\":[{\"marker\":{\"line\":{\"color\":\"#E5ECF6\",\"width\":0.5},\"pattern\":{\"fillmode\":\"overlay\",\"size\":10,\"solidity\":0.2}},\"type\":\"barpolar\"}],\"pie\":[{\"automargin\":true,\"type\":\"pie\"}]},\"layout\":{\"autotypenumbers\":\"strict\",\"colorway\":[\"#636efa\",\"#EF553B\",\"#00cc96\",\"#ab63fa\",\"#FFA15A\",\"#19d3f3\",\"#FF6692\",\"#B6E880\",\"#FF97FF\",\"#FECB52\"],\"font\":{\"color\":\"#2a3f5f\"},\"hovermode\":\"closest\",\"hoverlabel\":{\"align\":\"left\"},\"paper_bgcolor\":\"white\",\"plot_bgcolor\":\"#E5ECF6\",\"polar\":{\"bgcolor\":\"#E5ECF6\",\"angularaxis\":{\"gridcolor\":\"white\",\"linecolor\":\"white\",\"ticks\":\"\"},\"radialaxis\":{\"gridcolor\":\"white\",\"linecolor\":\"white\",\"ticks\":\"\"}},\"ternary\":{\"bgcolor\":\"#E5ECF6\",\"aaxis\":{\"gridcolor\":\"white\",\"linecolor\":\"white\",\"ticks\":\"\"},\"baxis\":{\"gridcolor\":\"white\",\"linecolor\":\"white\",\"ticks\":\"\"},\"caxis\":{\"gridcolor\":\"white\",\"linecolor\":\"white\",\"ticks\":\"\"}},\"coloraxis\":{\"colorbar\":{\"outlinewidth\":0,\"ticks\":\"\"}},\"colorscale\":{\"sequential\":[[0.0,\"#0d0887\"],[0.1111111111111111,\"#46039f\"],[0.2222222222222222,\"#7201a8\"],[0.3333333333333333,\"#9c179e\"],[0.4444444444444444,\"#bd3786\"],[0.5555555555555556,\"#d8576b\"],[0.6666666666666666,\"#ed7953\"],[0.7777777777777778,\"#fb9f3a\"],[0.8888888888888888,\"#fdca26\"],[1.0,\"#f0f921\"]],\"sequentialminus\":[[0.0,\"#0d0887\"],[0.1111111111111111,\"#46039f\"],[0.2222222222222222,\"#7201a8\"],[0.3333333333333333,\"#9c179e\"],[0.4444444444444444,\"#bd3786\"],[0.5555555555555556,\"#d8576b\"],[0.6666666666666666,\"#ed7953\"],[0.7777777777777778,\"#fb9f3a\"],[0.8888888888888888,\"#fdca26\"],[1.0,\"#f0f921\"]],\"diverging\":[[0,\"#8e0152\"],[0.1,\"#c51b7d\"],[0.2,\"#de77ae\"],[0.3,\"#f1b6da\"],[0.4,\"#fde0ef\"],[0.5,\"#f7f7f7\"],[0.6,\"#e6f5d0\"],[0.7,\"#b8e186\"],[0.8,\"#7fbc41\"],[0.9,\"#4d9221\"],[1,\"#276419\"]]},\"xaxis\":{\"gridcolor\":\"white\",\"linecolor\":\"white\",\"ticks\":\"\",\"title\":{\"standoff\":15},\"zerolinecolor\":\"white\",\"automargin\":true,\"zerolinewidth\":2},\"yaxis\":{\"gridcolor\":\"white\",\"linecolor\":\"white\",\"ticks\":\"\",\"title\":{\"standoff\":15},\"zerolinecolor\":\"white\",\"automargin\":true,\"zerolinewidth\":2},\"scene\":{\"xaxis\":{\"backgroundcolor\":\"#E5ECF6\",\"gridcolor\":\"white\",\"linecolor\":\"white\",\"showbackground\":true,\"ticks\":\"\",\"zerolinecolor\":\"white\",\"gridwidth\":2},\"yaxis\":{\"backgroundcolor\":\"#E5ECF6\",\"gridcolor\":\"white\",\"linecolor\":\"white\",\"showbackground\":true,\"ticks\":\"\",\"zerolinecolor\":\"white\",\"gridwidth\":2},\"zaxis\":{\"backgroundcolor\":\"#E5ECF6\",\"gridcolor\":\"white\",\"linecolor\":\"white\",\"showbackground\":true,\"ticks\":\"\",\"zerolinecolor\":\"white\",\"gridwidth\":2}},\"shapedefaults\":{\"line\":{\"color\":\"#2a3f5f\"}},\"annotationdefaults\":{\"arrowcolor\":\"#2a3f5f\",\"arrowhead\":0,\"arrowwidth\":1},\"geo\":{\"bgcolor\":\"white\",\"landcolor\":\"#E5ECF6\",\"subunitcolor\":\"white\",\"showland\":true,\"showlakes\":true,\"lakecolor\":\"white\"},\"title\":{\"x\":0.05},\"mapbox\":{\"style\":\"light\"}}},\"xaxis\":{\"anchor\":\"y\",\"domain\":[0.0,1.0],\"title\":{\"text\":\"date\"}},\"yaxis\":{\"anchor\":\"x\",\"domain\":[0.0,1.0],\"title\":{\"text\":\"precision_30\"}},\"legend\":{\"tracegroupgap\":0},\"margin\":{\"t\":60}},                        {\"responsive\": true}                    ).then(function(){\n",
       "                            \n",
       "var gd = document.getElementById('2edd393d-8987-4ebd-9be1-d24d3ef5e36c');\n",
       "var x = new MutationObserver(function (mutations, observer) {{\n",
       "        var display = window.getComputedStyle(gd).display;\n",
       "        if (!display || display === 'none') {{\n",
       "            console.log([gd, 'removed!']);\n",
       "            Plotly.purge(gd);\n",
       "            observer.disconnect();\n",
       "        }}\n",
       "}});\n",
       "\n",
       "// Listen for the removal of the full notebook cells\n",
       "var notebookContainer = gd.closest('#notebook-container');\n",
       "if (notebookContainer) {{\n",
       "    x.observe(notebookContainer, {childList: true});\n",
       "}}\n",
       "\n",
       "// Listen for the clearing of the current output cell\n",
       "var outputEl = gd.closest('.output');\n",
       "if (outputEl) {{\n",
       "    x.observe(outputEl, {childList: true});\n",
       "}}\n",
       "\n",
       "                        })                };                });            </script>        </div>"
      ]
     },
     "metadata": {},
     "output_type": "display_data"
    }
   ],
   "source": [
    "px.line(df, x=\"date\", y=\"precision_14\")\n",
    "px.line(df, x=\"date\", y=\"precision_30\", markers=True)"
   ]
  },
  {
   "cell_type": "code",
   "execution_count": 201,
   "id": "53719381-1ea7-44af-9037-50d100b61fd2",
   "metadata": {},
   "outputs": [
    {
     "name": "stdout",
     "output_type": "stream",
     "text": [
      "0.55\n",
      "0.61\n"
     ]
    },
    {
     "data": {
      "application/vnd.plotly.v1+json": {
       "config": {
        "plotlyServerURL": "https://plot.ly"
       },
       "data": [
        {
         "line": {
          "color": "blue",
          "width": 4
         },
         "mode": "lines",
         "name": "Precision Across All Time",
         "opacity": 0.7,
         "type": "scatter",
         "x": [
          "2024-03-01",
          "2024-03-02",
          "2024-03-03",
          "2024-03-04",
          "2024-03-05",
          "2024-03-06",
          "2024-03-07",
          "2024-03-08",
          "2024-03-09",
          "2024-03-10",
          "2024-03-11",
          "2024-03-12",
          "2024-03-13",
          "2024-03-14",
          "2024-03-15",
          "2024-03-16",
          "2024-03-17",
          "2024-03-18",
          "2024-03-19",
          "2024-03-20",
          "2024-03-21",
          "2024-03-22",
          "2024-03-23",
          "2024-03-24",
          "2024-03-25",
          "2024-03-26",
          "2024-03-27",
          "2024-03-28",
          "2024-03-29",
          "2024-03-30",
          "2024-03-31",
          "2024-04-01",
          "2024-04-02",
          "2024-04-03",
          "2024-04-04",
          "2024-04-05",
          "2024-04-06",
          "2024-04-07",
          "2024-04-08",
          "2024-04-09",
          "2024-04-10",
          "2024-04-11",
          "2024-04-12",
          "2024-04-13",
          "2024-04-14",
          "2024-04-15",
          "2024-04-16",
          "2024-04-17",
          "2024-04-18",
          "2024-04-19",
          "2024-04-20",
          "2024-04-21",
          "2024-04-22",
          "2024-04-23",
          "2024-04-24",
          "2024-04-25",
          "2024-04-26",
          "2024-04-27",
          "2024-04-28",
          "2024-04-29",
          "2024-04-30",
          "2024-05-01",
          "2024-05-02",
          "2024-05-03",
          "2024-05-04",
          "2024-05-05",
          "2024-05-06",
          "2024-05-07",
          "2024-05-08",
          "2024-05-09",
          "2024-05-10",
          "2024-05-11",
          "2024-05-12",
          "2024-05-13",
          "2024-05-14",
          "2024-05-15",
          "2024-05-16",
          "2024-05-17",
          "2024-05-18",
          "2024-05-19",
          "2024-05-20",
          "2024-05-21",
          "2024-05-22",
          "2024-05-23",
          "2024-05-24",
          "2024-05-25",
          "2024-05-26",
          "2024-05-27",
          "2024-05-28",
          "2024-05-29",
          "2024-05-30",
          "2024-05-31",
          "2024-06-01",
          "2024-06-02",
          "2024-06-03",
          "2024-06-04",
          "2024-06-05",
          "2024-06-06",
          "2024-06-07",
          "2024-06-08",
          "2024-06-09",
          "2024-06-10",
          "2024-06-11",
          "2024-06-12",
          "2024-06-13",
          "2024-06-14",
          "2024-06-15",
          "2024-06-16",
          "2024-06-17",
          "2024-06-18",
          "2024-06-19",
          "2024-06-20",
          "2024-06-21",
          "2024-06-22",
          "2024-06-23",
          "2024-06-24",
          "2024-06-25",
          "2024-06-26",
          "2024-06-27",
          "2024-06-28",
          "2024-06-29",
          "2024-06-30",
          "2024-07-01",
          "2024-07-02",
          "2024-07-03",
          "2024-07-04",
          "2024-07-05",
          "2024-07-06",
          "2024-07-07",
          "2024-07-08",
          "2024-07-09",
          "2024-07-10",
          "2024-07-11"
         ],
         "y": [
          0.6052631578947368,
          0.6103896103896104,
          0.6103896103896104,
          0.6025641025641025,
          0.6075949367088608,
          0.6075949367088608,
          0.6125,
          0.6172839506172839,
          0.6172839506172839,
          0.6219512195121951,
          0.6144578313253012,
          0.6190476190476191,
          0.611764705882353,
          0.611764705882353,
          0.611764705882353,
          0.611764705882353,
          0.611764705882353,
          0.611764705882353,
          0.611764705882353,
          0.611764705882353,
          0.611764705882353,
          0.611764705882353,
          0.611764705882353,
          0.6162790697674418,
          0.6162790697674418,
          0.6162790697674418,
          0.6162790697674418,
          0.6162790697674418,
          0.6091954022988506,
          0.6091954022988506,
          0.6091954022988506,
          0.6091954022988506,
          0.6091954022988506,
          0.6136363636363636,
          0.6136363636363636,
          0.6136363636363636,
          0.6136363636363636,
          0.6136363636363636,
          0.6136363636363636,
          0.6136363636363636,
          0.6136363636363636,
          0.6067415730337079,
          0.6067415730337079,
          0.6067415730337079,
          0.6,
          0.6,
          0.5934065934065934,
          0.5978260869565217,
          0.5978260869565217,
          0.5978260869565217,
          0.5913978494623656,
          0.5913978494623656,
          0.5913978494623656,
          0.5913978494623656,
          0.5913978494623656,
          0.5913978494623656,
          0.5851063829787234,
          0.5789473684210527,
          0.5833333333333334,
          0.5833333333333334,
          0.5773195876288659,
          0.5816326530612245,
          0.5858585858585859,
          0.59,
          0.59,
          0.59,
          0.59,
          0.59,
          0.59,
          0.5841584158415841,
          0.5841584158415841,
          0.5841584158415841,
          0.5882352941176471,
          0.5882352941176471,
          0.5882352941176471,
          0.5882352941176471,
          0.5882352941176471,
          0.5882352941176471,
          0.5882352941176471,
          0.5882352941176471,
          0.5882352941176471,
          0.5825242718446602,
          0.5825242718446602,
          0.5825242718446602,
          0.5825242718446602,
          0.5825242718446602,
          0.5825242718446602,
          0.5825242718446602,
          0.5825242718446602,
          0.5825242718446602,
          0.5825242718446602,
          0.5825242718446602,
          0.5825242718446602,
          0.5825242718446602,
          0.5825242718446602,
          0.5825242718446602,
          0.5825242718446602,
          0.5769230769230769,
          0.5769230769230769,
          0.5769230769230769,
          0.5769230769230769,
          0.5714285714285714,
          0.5714285714285714,
          0.5714285714285714,
          0.5714285714285714,
          0.5754716981132075,
          0.5794392523364486,
          0.5794392523364486,
          0.5794392523364486,
          0.5794392523364486,
          0.5740740740740741,
          0.5688073394495413,
          0.5688073394495413,
          0.5636363636363636,
          0.5585585585585585,
          0.5625,
          0.5575221238938053,
          0.5614035087719298,
          0.5565217391304348,
          0.5603448275862069,
          0.5641025641025641,
          0.5641025641025641,
          0.5641025641025641,
          0.5641025641025641,
          0.5641025641025641,
          0.559322033898305,
          0.5630252100840336,
          0.5583333333333333,
          0.5619834710743802,
          0.5655737704918032,
          0.5609756097560976,
          0.5609756097560976,
          0.5609756097560976
         ]
        },
        {
         "line": {
          "color": "purple",
          "width": 4
         },
         "mode": "lines",
         "name": "Recall Across All Time",
         "opacity": 0.7,
         "type": "scatter",
         "x": [
          "2024-03-01",
          "2024-03-02",
          "2024-03-03",
          "2024-03-04",
          "2024-03-05",
          "2024-03-06",
          "2024-03-07",
          "2024-03-08",
          "2024-03-09",
          "2024-03-10",
          "2024-03-11",
          "2024-03-12",
          "2024-03-13",
          "2024-03-14",
          "2024-03-15",
          "2024-03-16",
          "2024-03-17",
          "2024-03-18",
          "2024-03-19",
          "2024-03-20",
          "2024-03-21",
          "2024-03-22",
          "2024-03-23",
          "2024-03-24",
          "2024-03-25",
          "2024-03-26",
          "2024-03-27",
          "2024-03-28",
          "2024-03-29",
          "2024-03-30",
          "2024-03-31",
          "2024-04-01",
          "2024-04-02",
          "2024-04-03",
          "2024-04-04",
          "2024-04-05",
          "2024-04-06",
          "2024-04-07",
          "2024-04-08",
          "2024-04-09",
          "2024-04-10",
          "2024-04-11",
          "2024-04-12",
          "2024-04-13",
          "2024-04-14",
          "2024-04-15",
          "2024-04-16",
          "2024-04-17",
          "2024-04-18",
          "2024-04-19",
          "2024-04-20",
          "2024-04-21",
          "2024-04-22",
          "2024-04-23",
          "2024-04-24",
          "2024-04-25",
          "2024-04-26",
          "2024-04-27",
          "2024-04-28",
          "2024-04-29",
          "2024-04-30",
          "2024-05-01",
          "2024-05-02",
          "2024-05-03",
          "2024-05-04",
          "2024-05-05",
          "2024-05-06",
          "2024-05-07",
          "2024-05-08",
          "2024-05-09",
          "2024-05-10",
          "2024-05-11",
          "2024-05-12",
          "2024-05-13",
          "2024-05-14",
          "2024-05-15",
          "2024-05-16",
          "2024-05-17",
          "2024-05-18",
          "2024-05-19",
          "2024-05-20",
          "2024-05-21",
          "2024-05-22",
          "2024-05-23",
          "2024-05-24",
          "2024-05-25",
          "2024-05-26",
          "2024-05-27",
          "2024-05-28",
          "2024-05-29",
          "2024-05-30",
          "2024-05-31",
          "2024-06-01",
          "2024-06-02",
          "2024-06-03",
          "2024-06-04",
          "2024-06-05",
          "2024-06-06",
          "2024-06-07",
          "2024-06-08",
          "2024-06-09",
          "2024-06-10",
          "2024-06-11",
          "2024-06-12",
          "2024-06-13",
          "2024-06-14",
          "2024-06-15",
          "2024-06-16",
          "2024-06-17",
          "2024-06-18",
          "2024-06-19",
          "2024-06-20",
          "2024-06-21",
          "2024-06-22",
          "2024-06-23",
          "2024-06-24",
          "2024-06-25",
          "2024-06-26",
          "2024-06-27",
          "2024-06-28",
          "2024-06-29",
          "2024-06-30",
          "2024-07-01",
          "2024-07-02",
          "2024-07-03",
          "2024-07-04",
          "2024-07-05",
          "2024-07-06",
          "2024-07-07",
          "2024-07-08",
          "2024-07-09",
          "2024-07-10",
          "2024-07-11"
         ],
         "y": [
          0.5476190476190477,
          0.5529411764705883,
          0.5465116279069767,
          0.5465116279069767,
          0.5517241379310345,
          0.5454545454545454,
          0.550561797752809,
          0.5555555555555556,
          0.5494505494505495,
          0.5543478260869565,
          0.5543478260869565,
          0.5591397849462365,
          0.5591397849462365,
          0.5591397849462365,
          0.5591397849462365,
          0.5531914893617021,
          0.5531914893617021,
          0.5531914893617021,
          0.5473684210526316,
          0.5473684210526316,
          0.5473684210526316,
          0.5416666666666666,
          0.5360824742268041,
          0.5408163265306123,
          0.5353535353535354,
          0.5353535353535354,
          0.53,
          0.53,
          0.53,
          0.5247524752475248,
          0.5247524752475248,
          0.5247524752475248,
          0.5196078431372549,
          0.5242718446601942,
          0.5242718446601942,
          0.5192307692307693,
          0.5142857142857142,
          0.5094339622641509,
          0.5094339622641509,
          0.5046728971962616,
          0.5046728971962616,
          0.5046728971962616,
          0.5046728971962616,
          0.5,
          0.5,
          0.4954128440366973,
          0.4954128440366973,
          0.5,
          0.4954954954954955,
          0.49107142857142855,
          0.49107142857142855,
          0.48672566371681414,
          0.48672566371681414,
          0.48672566371681414,
          0.4824561403508772,
          0.4824561403508772,
          0.4824561403508772,
          0.4824561403508772,
          0.48695652173913045,
          0.48695652173913045,
          0.48695652173913045,
          0.49137931034482757,
          0.49572649572649574,
          0.5,
          0.4957983193277311,
          0.4957983193277311,
          0.4957983193277311,
          0.4957983193277311,
          0.49166666666666664,
          0.49166666666666664,
          0.48760330578512395,
          0.48360655737704916,
          0.4878048780487805,
          0.4878048780487805,
          0.4838709677419355,
          0.4838709677419355,
          0.48,
          0.48,
          0.48,
          0.47619047619047616,
          0.47619047619047616,
          0.47619047619047616,
          0.47619047619047616,
          0.47244094488188976,
          0.46875,
          0.46875,
          0.46511627906976744,
          0.46511627906976744,
          0.46511627906976744,
          0.46153846153846156,
          0.46153846153846156,
          0.4580152671755725,
          0.45454545454545453,
          0.45112781954887216,
          0.44776119402985076,
          0.4444444444444444,
          0.4444444444444444,
          0.4444444444444444,
          0.4444444444444444,
          0.4411764705882353,
          0.4411764705882353,
          0.4411764705882353,
          0.43795620437956206,
          0.43795620437956206,
          0.43795620437956206,
          0.4420289855072464,
          0.4460431654676259,
          0.4460431654676259,
          0.4460431654676259,
          0.4460431654676259,
          0.4460431654676259,
          0.4460431654676259,
          0.44285714285714284,
          0.44285714285714284,
          0.44285714285714284,
          0.44680851063829785,
          0.44680851063829785,
          0.4507042253521127,
          0.4507042253521127,
          0.45454545454545453,
          0.4583333333333333,
          0.45517241379310347,
          0.45517241379310347,
          0.45517241379310347,
          0.45517241379310347,
          0.45517241379310347,
          0.4589041095890411,
          0.4589041095890411,
          0.46258503401360546,
          0.46621621621621623,
          0.46621621621621623,
          0.46621621621621623,
          0.46308724832214765
         ]
        },
        {
         "marker": {
          "color": "purple",
          "size": 10
         },
         "mode": "markers",
         "type": "scatter",
         "x": [
          "2024-03-01",
          "2024-07-11"
         ],
         "y": [
          0.5476190476190477,
          0.46308724832214765
         ]
        },
        {
         "marker": {
          "color": "blue",
          "size": 10
         },
         "mode": "markers",
         "type": "scatter",
         "x": [
          "2024-03-01",
          "2024-07-11"
         ],
         "y": [
          0.6052631578947368,
          0.5609756097560976
         ]
        }
       ],
       "layout": {
        "annotations": [
         {
          "font": {
           "family": "Arial",
           "size": 14
          },
          "showarrow": false,
          "text": "Recall 55%",
          "x": 0.05,
          "xanchor": "right",
          "xref": "paper",
          "y": 0.5476190476190477,
          "yanchor": "middle"
         },
         {
          "font": {
           "family": "Arial",
           "size": 14
          },
          "showarrow": false,
          "text": "46.31%",
          "x": 0.95,
          "xanchor": "left",
          "xref": "paper",
          "y": 0.46,
          "yanchor": "middle"
         },
         {
          "font": {
           "family": "Arial",
           "size": 14
          },
          "showarrow": false,
          "text": "Precision 61%",
          "x": 0.05,
          "xanchor": "right",
          "xref": "paper",
          "y": 0.6052631578947368,
          "yanchor": "middle"
         },
         {
          "font": {
           "family": "Arial",
           "size": 14
          },
          "showarrow": false,
          "text": "56.1%",
          "x": 0.95,
          "xanchor": "left",
          "xref": "paper",
          "y": 0.56,
          "yanchor": "middle"
         },
         {
          "font": {
           "color": "rgb(37,37,37)",
           "family": "Arial",
           "size": 30
          },
          "showarrow": false,
          "text": "Gradient Boost",
          "x": 0,
          "xanchor": "left",
          "xref": "paper",
          "y": 1.05,
          "yanchor": "bottom",
          "yref": "paper"
         }
        ],
        "autosize": false,
        "height": 450,
        "margin": {
         "autoexpand": false,
         "l": 100,
         "r": 20,
         "t": 110
        },
        "plot_bgcolor": "white",
        "showlegend": false,
        "template": {
         "data": {
          "bar": [
           {
            "error_x": {
             "color": "#2a3f5f"
            },
            "error_y": {
             "color": "#2a3f5f"
            },
            "marker": {
             "line": {
              "color": "#E5ECF6",
              "width": 0.5
             },
             "pattern": {
              "fillmode": "overlay",
              "size": 10,
              "solidity": 0.2
             }
            },
            "type": "bar"
           }
          ],
          "barpolar": [
           {
            "marker": {
             "line": {
              "color": "#E5ECF6",
              "width": 0.5
             },
             "pattern": {
              "fillmode": "overlay",
              "size": 10,
              "solidity": 0.2
             }
            },
            "type": "barpolar"
           }
          ],
          "carpet": [
           {
            "aaxis": {
             "endlinecolor": "#2a3f5f",
             "gridcolor": "white",
             "linecolor": "white",
             "minorgridcolor": "white",
             "startlinecolor": "#2a3f5f"
            },
            "baxis": {
             "endlinecolor": "#2a3f5f",
             "gridcolor": "white",
             "linecolor": "white",
             "minorgridcolor": "white",
             "startlinecolor": "#2a3f5f"
            },
            "type": "carpet"
           }
          ],
          "choropleth": [
           {
            "colorbar": {
             "outlinewidth": 0,
             "ticks": ""
            },
            "type": "choropleth"
           }
          ],
          "contour": [
           {
            "colorbar": {
             "outlinewidth": 0,
             "ticks": ""
            },
            "colorscale": [
             [
              0,
              "#0d0887"
             ],
             [
              0.1111111111111111,
              "#46039f"
             ],
             [
              0.2222222222222222,
              "#7201a8"
             ],
             [
              0.3333333333333333,
              "#9c179e"
             ],
             [
              0.4444444444444444,
              "#bd3786"
             ],
             [
              0.5555555555555556,
              "#d8576b"
             ],
             [
              0.6666666666666666,
              "#ed7953"
             ],
             [
              0.7777777777777778,
              "#fb9f3a"
             ],
             [
              0.8888888888888888,
              "#fdca26"
             ],
             [
              1,
              "#f0f921"
             ]
            ],
            "type": "contour"
           }
          ],
          "contourcarpet": [
           {
            "colorbar": {
             "outlinewidth": 0,
             "ticks": ""
            },
            "type": "contourcarpet"
           }
          ],
          "heatmap": [
           {
            "colorbar": {
             "outlinewidth": 0,
             "ticks": ""
            },
            "colorscale": [
             [
              0,
              "#0d0887"
             ],
             [
              0.1111111111111111,
              "#46039f"
             ],
             [
              0.2222222222222222,
              "#7201a8"
             ],
             [
              0.3333333333333333,
              "#9c179e"
             ],
             [
              0.4444444444444444,
              "#bd3786"
             ],
             [
              0.5555555555555556,
              "#d8576b"
             ],
             [
              0.6666666666666666,
              "#ed7953"
             ],
             [
              0.7777777777777778,
              "#fb9f3a"
             ],
             [
              0.8888888888888888,
              "#fdca26"
             ],
             [
              1,
              "#f0f921"
             ]
            ],
            "type": "heatmap"
           }
          ],
          "heatmapgl": [
           {
            "colorbar": {
             "outlinewidth": 0,
             "ticks": ""
            },
            "colorscale": [
             [
              0,
              "#0d0887"
             ],
             [
              0.1111111111111111,
              "#46039f"
             ],
             [
              0.2222222222222222,
              "#7201a8"
             ],
             [
              0.3333333333333333,
              "#9c179e"
             ],
             [
              0.4444444444444444,
              "#bd3786"
             ],
             [
              0.5555555555555556,
              "#d8576b"
             ],
             [
              0.6666666666666666,
              "#ed7953"
             ],
             [
              0.7777777777777778,
              "#fb9f3a"
             ],
             [
              0.8888888888888888,
              "#fdca26"
             ],
             [
              1,
              "#f0f921"
             ]
            ],
            "type": "heatmapgl"
           }
          ],
          "histogram": [
           {
            "marker": {
             "pattern": {
              "fillmode": "overlay",
              "size": 10,
              "solidity": 0.2
             }
            },
            "type": "histogram"
           }
          ],
          "histogram2d": [
           {
            "colorbar": {
             "outlinewidth": 0,
             "ticks": ""
            },
            "colorscale": [
             [
              0,
              "#0d0887"
             ],
             [
              0.1111111111111111,
              "#46039f"
             ],
             [
              0.2222222222222222,
              "#7201a8"
             ],
             [
              0.3333333333333333,
              "#9c179e"
             ],
             [
              0.4444444444444444,
              "#bd3786"
             ],
             [
              0.5555555555555556,
              "#d8576b"
             ],
             [
              0.6666666666666666,
              "#ed7953"
             ],
             [
              0.7777777777777778,
              "#fb9f3a"
             ],
             [
              0.8888888888888888,
              "#fdca26"
             ],
             [
              1,
              "#f0f921"
             ]
            ],
            "type": "histogram2d"
           }
          ],
          "histogram2dcontour": [
           {
            "colorbar": {
             "outlinewidth": 0,
             "ticks": ""
            },
            "colorscale": [
             [
              0,
              "#0d0887"
             ],
             [
              0.1111111111111111,
              "#46039f"
             ],
             [
              0.2222222222222222,
              "#7201a8"
             ],
             [
              0.3333333333333333,
              "#9c179e"
             ],
             [
              0.4444444444444444,
              "#bd3786"
             ],
             [
              0.5555555555555556,
              "#d8576b"
             ],
             [
              0.6666666666666666,
              "#ed7953"
             ],
             [
              0.7777777777777778,
              "#fb9f3a"
             ],
             [
              0.8888888888888888,
              "#fdca26"
             ],
             [
              1,
              "#f0f921"
             ]
            ],
            "type": "histogram2dcontour"
           }
          ],
          "mesh3d": [
           {
            "colorbar": {
             "outlinewidth": 0,
             "ticks": ""
            },
            "type": "mesh3d"
           }
          ],
          "parcoords": [
           {
            "line": {
             "colorbar": {
              "outlinewidth": 0,
              "ticks": ""
             }
            },
            "type": "parcoords"
           }
          ],
          "pie": [
           {
            "automargin": true,
            "type": "pie"
           }
          ],
          "scatter": [
           {
            "fillpattern": {
             "fillmode": "overlay",
             "size": 10,
             "solidity": 0.2
            },
            "type": "scatter"
           }
          ],
          "scatter3d": [
           {
            "line": {
             "colorbar": {
              "outlinewidth": 0,
              "ticks": ""
             }
            },
            "marker": {
             "colorbar": {
              "outlinewidth": 0,
              "ticks": ""
             }
            },
            "type": "scatter3d"
           }
          ],
          "scattercarpet": [
           {
            "marker": {
             "colorbar": {
              "outlinewidth": 0,
              "ticks": ""
             }
            },
            "type": "scattercarpet"
           }
          ],
          "scattergeo": [
           {
            "marker": {
             "colorbar": {
              "outlinewidth": 0,
              "ticks": ""
             }
            },
            "type": "scattergeo"
           }
          ],
          "scattergl": [
           {
            "marker": {
             "colorbar": {
              "outlinewidth": 0,
              "ticks": ""
             }
            },
            "type": "scattergl"
           }
          ],
          "scattermapbox": [
           {
            "marker": {
             "colorbar": {
              "outlinewidth": 0,
              "ticks": ""
             }
            },
            "type": "scattermapbox"
           }
          ],
          "scatterpolar": [
           {
            "marker": {
             "colorbar": {
              "outlinewidth": 0,
              "ticks": ""
             }
            },
            "type": "scatterpolar"
           }
          ],
          "scatterpolargl": [
           {
            "marker": {
             "colorbar": {
              "outlinewidth": 0,
              "ticks": ""
             }
            },
            "type": "scatterpolargl"
           }
          ],
          "scatterternary": [
           {
            "marker": {
             "colorbar": {
              "outlinewidth": 0,
              "ticks": ""
             }
            },
            "type": "scatterternary"
           }
          ],
          "surface": [
           {
            "colorbar": {
             "outlinewidth": 0,
             "ticks": ""
            },
            "colorscale": [
             [
              0,
              "#0d0887"
             ],
             [
              0.1111111111111111,
              "#46039f"
             ],
             [
              0.2222222222222222,
              "#7201a8"
             ],
             [
              0.3333333333333333,
              "#9c179e"
             ],
             [
              0.4444444444444444,
              "#bd3786"
             ],
             [
              0.5555555555555556,
              "#d8576b"
             ],
             [
              0.6666666666666666,
              "#ed7953"
             ],
             [
              0.7777777777777778,
              "#fb9f3a"
             ],
             [
              0.8888888888888888,
              "#fdca26"
             ],
             [
              1,
              "#f0f921"
             ]
            ],
            "type": "surface"
           }
          ],
          "table": [
           {
            "cells": {
             "fill": {
              "color": "#EBF0F8"
             },
             "line": {
              "color": "white"
             }
            },
            "header": {
             "fill": {
              "color": "#C8D4E3"
             },
             "line": {
              "color": "white"
             }
            },
            "type": "table"
           }
          ]
         },
         "layout": {
          "annotationdefaults": {
           "arrowcolor": "#2a3f5f",
           "arrowhead": 0,
           "arrowwidth": 1
          },
          "autotypenumbers": "strict",
          "coloraxis": {
           "colorbar": {
            "outlinewidth": 0,
            "ticks": ""
           }
          },
          "colorscale": {
           "diverging": [
            [
             0,
             "#8e0152"
            ],
            [
             0.1,
             "#c51b7d"
            ],
            [
             0.2,
             "#de77ae"
            ],
            [
             0.3,
             "#f1b6da"
            ],
            [
             0.4,
             "#fde0ef"
            ],
            [
             0.5,
             "#f7f7f7"
            ],
            [
             0.6,
             "#e6f5d0"
            ],
            [
             0.7,
             "#b8e186"
            ],
            [
             0.8,
             "#7fbc41"
            ],
            [
             0.9,
             "#4d9221"
            ],
            [
             1,
             "#276419"
            ]
           ],
           "sequential": [
            [
             0,
             "#0d0887"
            ],
            [
             0.1111111111111111,
             "#46039f"
            ],
            [
             0.2222222222222222,
             "#7201a8"
            ],
            [
             0.3333333333333333,
             "#9c179e"
            ],
            [
             0.4444444444444444,
             "#bd3786"
            ],
            [
             0.5555555555555556,
             "#d8576b"
            ],
            [
             0.6666666666666666,
             "#ed7953"
            ],
            [
             0.7777777777777778,
             "#fb9f3a"
            ],
            [
             0.8888888888888888,
             "#fdca26"
            ],
            [
             1,
             "#f0f921"
            ]
           ],
           "sequentialminus": [
            [
             0,
             "#0d0887"
            ],
            [
             0.1111111111111111,
             "#46039f"
            ],
            [
             0.2222222222222222,
             "#7201a8"
            ],
            [
             0.3333333333333333,
             "#9c179e"
            ],
            [
             0.4444444444444444,
             "#bd3786"
            ],
            [
             0.5555555555555556,
             "#d8576b"
            ],
            [
             0.6666666666666666,
             "#ed7953"
            ],
            [
             0.7777777777777778,
             "#fb9f3a"
            ],
            [
             0.8888888888888888,
             "#fdca26"
            ],
            [
             1,
             "#f0f921"
            ]
           ]
          },
          "colorway": [
           "#636efa",
           "#EF553B",
           "#00cc96",
           "#ab63fa",
           "#FFA15A",
           "#19d3f3",
           "#FF6692",
           "#B6E880",
           "#FF97FF",
           "#FECB52"
          ],
          "font": {
           "color": "#2a3f5f"
          },
          "geo": {
           "bgcolor": "white",
           "lakecolor": "white",
           "landcolor": "#E5ECF6",
           "showlakes": true,
           "showland": true,
           "subunitcolor": "white"
          },
          "hoverlabel": {
           "align": "left"
          },
          "hovermode": "closest",
          "mapbox": {
           "style": "light"
          },
          "paper_bgcolor": "white",
          "plot_bgcolor": "#E5ECF6",
          "polar": {
           "angularaxis": {
            "gridcolor": "white",
            "linecolor": "white",
            "ticks": ""
           },
           "bgcolor": "#E5ECF6",
           "radialaxis": {
            "gridcolor": "white",
            "linecolor": "white",
            "ticks": ""
           }
          },
          "scene": {
           "xaxis": {
            "backgroundcolor": "#E5ECF6",
            "gridcolor": "white",
            "gridwidth": 2,
            "linecolor": "white",
            "showbackground": true,
            "ticks": "",
            "zerolinecolor": "white"
           },
           "yaxis": {
            "backgroundcolor": "#E5ECF6",
            "gridcolor": "white",
            "gridwidth": 2,
            "linecolor": "white",
            "showbackground": true,
            "ticks": "",
            "zerolinecolor": "white"
           },
           "zaxis": {
            "backgroundcolor": "#E5ECF6",
            "gridcolor": "white",
            "gridwidth": 2,
            "linecolor": "white",
            "showbackground": true,
            "ticks": "",
            "zerolinecolor": "white"
           }
          },
          "shapedefaults": {
           "line": {
            "color": "#2a3f5f"
           }
          },
          "ternary": {
           "aaxis": {
            "gridcolor": "white",
            "linecolor": "white",
            "ticks": ""
           },
           "baxis": {
            "gridcolor": "white",
            "linecolor": "white",
            "ticks": ""
           },
           "bgcolor": "#E5ECF6",
           "caxis": {
            "gridcolor": "white",
            "linecolor": "white",
            "ticks": ""
           }
          },
          "title": {
           "x": 0.05
          },
          "xaxis": {
           "automargin": true,
           "gridcolor": "white",
           "linecolor": "white",
           "ticks": "",
           "title": {
            "standoff": 15
           },
           "zerolinecolor": "white",
           "zerolinewidth": 2
          },
          "yaxis": {
           "automargin": true,
           "gridcolor": "white",
           "linecolor": "white",
           "ticks": "",
           "title": {
            "standoff": 15
           },
           "zerolinecolor": "white",
           "zerolinewidth": 2
          }
         }
        },
        "width": 700,
        "xaxis": {
         "autorange": true,
         "linecolor": "rgb(0, 0, 0)",
         "linewidth": 2,
         "range": [
          "2024-02-20 20:49:13.4838",
          "2024-07-20 03:10:46.5162"
         ],
         "showgrid": true,
         "showline": true,
         "showticklabels": true,
         "tickfont": {
          "color": "rgb(82, 82, 82)",
          "family": "Arial",
          "size": 12
         },
         "ticks": "outside",
         "type": "date"
        },
        "yaxis": {
         "autorange": true,
         "range": [
          0.42773425909441576,
          0.6321731647973414
         ],
         "showgrid": true,
         "showline": true,
         "showticklabels": false,
         "type": "linear",
         "zeroline": false
        }
       }
      },
      "image/png": "[encoded data removed]",
      "text/html": [
       "<div>                            <div id=\"fd4b662b-c59b-4077-81ab-2bb60ed91369\" class=\"plotly-graph-div\" style=\"height:525px; width:100%;\"></div>            <script type=\"text/javascript\">                require([\"plotly\"], function(Plotly) {                    window.PLOTLYENV=window.PLOTLYENV || {};                                    if (document.getElementById(\"fd4b662b-c59b-4077-81ab-2bb60ed91369\")) {                    Plotly.newPlot(                        \"fd4b662b-c59b-4077-81ab-2bb60ed91369\",                        [{\"line\":{\"color\":\"blue\",\"width\":4},\"mode\":\"lines\",\"name\":\"Precision Across All Time\",\"opacity\":0.7,\"x\":[\"2024-03-01\",\"2024-03-02\",\"2024-03-03\",\"2024-03-04\",\"2024-03-05\",\"2024-03-06\",\"2024-03-07\",\"2024-03-08\",\"2024-03-09\",\"2024-03-10\",\"2024-03-11\",\"2024-03-12\",\"2024-03-13\",\"2024-03-14\",\"2024-03-15\",\"2024-03-16\",\"2024-03-17\",\"2024-03-18\",\"2024-03-19\",\"2024-03-20\",\"2024-03-21\",\"2024-03-22\",\"2024-03-23\",\"2024-03-24\",\"2024-03-25\",\"2024-03-26\",\"2024-03-27\",\"2024-03-28\",\"2024-03-29\",\"2024-03-30\",\"2024-03-31\",\"2024-04-01\",\"2024-04-02\",\"2024-04-03\",\"2024-04-04\",\"2024-04-05\",\"2024-04-06\",\"2024-04-07\",\"2024-04-08\",\"2024-04-09\",\"2024-04-10\",\"2024-04-11\",\"2024-04-12\",\"2024-04-13\",\"2024-04-14\",\"2024-04-15\",\"2024-04-16\",\"2024-04-17\",\"2024-04-18\",\"2024-04-19\",\"2024-04-20\",\"2024-04-21\",\"2024-04-22\",\"2024-04-23\",\"2024-04-24\",\"2024-04-25\",\"2024-04-26\",\"2024-04-27\",\"2024-04-28\",\"2024-04-29\",\"2024-04-30\",\"2024-05-01\",\"2024-05-02\",\"2024-05-03\",\"2024-05-04\",\"2024-05-05\",\"2024-05-06\",\"2024-05-07\",\"2024-05-08\",\"2024-05-09\",\"2024-05-10\",\"2024-05-11\",\"2024-05-12\",\"2024-05-13\",\"2024-05-14\",\"2024-05-15\",\"2024-05-16\",\"2024-05-17\",\"2024-05-18\",\"2024-05-19\",\"2024-05-20\",\"2024-05-21\",\"2024-05-22\",\"2024-05-23\",\"2024-05-24\",\"2024-05-25\",\"2024-05-26\",\"2024-05-27\",\"2024-05-28\",\"2024-05-29\",\"2024-05-30\",\"2024-05-31\",\"2024-06-01\",\"2024-06-02\",\"2024-06-03\",\"2024-06-04\",\"2024-06-05\",\"2024-06-06\",\"2024-06-07\",\"2024-06-08\",\"2024-06-09\",\"2024-06-10\",\"2024-06-11\",\"2024-06-12\",\"2024-06-13\",\"2024-06-14\",\"2024-06-15\",\"2024-06-16\",\"2024-06-17\",\"2024-06-18\",\"2024-06-19\",\"2024-06-20\",\"2024-06-21\",\"2024-06-22\",\"2024-06-23\",\"2024-06-24\",\"2024-06-25\",\"2024-06-26\",\"2024-06-27\",\"2024-06-28\",\"2024-06-29\",\"2024-06-30\",\"2024-07-01\",\"2024-07-02\",\"2024-07-03\",\"2024-07-04\",\"2024-07-05\",\"2024-07-06\",\"2024-07-07\",\"2024-07-08\",\"2024-07-09\",\"2024-07-10\",\"2024-07-11\"],\"y\":[0.6052631578947368,0.6103896103896104,0.6103896103896104,0.6025641025641025,0.6075949367088608,0.6075949367088608,0.6125,0.6172839506172839,0.6172839506172839,0.6219512195121951,0.6144578313253012,0.6190476190476191,0.611764705882353,0.611764705882353,0.611764705882353,0.611764705882353,0.611764705882353,0.611764705882353,0.611764705882353,0.611764705882353,0.611764705882353,0.611764705882353,0.611764705882353,0.6162790697674418,0.6162790697674418,0.6162790697674418,0.6162790697674418,0.6162790697674418,0.6091954022988506,0.6091954022988506,0.6091954022988506,0.6091954022988506,0.6091954022988506,0.6136363636363636,0.6136363636363636,0.6136363636363636,0.6136363636363636,0.6136363636363636,0.6136363636363636,0.6136363636363636,0.6136363636363636,0.6067415730337079,0.6067415730337079,0.6067415730337079,0.6,0.6,0.5934065934065934,0.5978260869565217,0.5978260869565217,0.5978260869565217,0.5913978494623656,0.5913978494623656,0.5913978494623656,0.5913978494623656,0.5913978494623656,0.5913978494623656,0.5851063829787234,0.5789473684210527,0.5833333333333334,0.5833333333333334,0.5773195876288659,0.5816326530612245,0.5858585858585859,0.59,0.59,0.59,0.59,0.59,0.59,0.5841584158415841,0.5841584158415841,0.5841584158415841,0.5882352941176471,0.5882352941176471,0.5882352941176471,0.5882352941176471,0.5882352941176471,0.5882352941176471,0.5882352941176471,0.5882352941176471,0.5882352941176471,0.5825242718446602,0.5825242718446602,0.5825242718446602,0.5825242718446602,0.5825242718446602,0.5825242718446602,0.5825242718446602,0.5825242718446602,0.5825242718446602,0.5825242718446602,0.5825242718446602,0.5825242718446602,0.5825242718446602,0.5825242718446602,0.5825242718446602,0.5825242718446602,0.5769230769230769,0.5769230769230769,0.5769230769230769,0.5769230769230769,0.5714285714285714,0.5714285714285714,0.5714285714285714,0.5714285714285714,0.5754716981132075,0.5794392523364486,0.5794392523364486,0.5794392523364486,0.5794392523364486,0.5740740740740741,0.5688073394495413,0.5688073394495413,0.5636363636363636,0.5585585585585585,0.5625,0.5575221238938053,0.5614035087719298,0.5565217391304348,0.5603448275862069,0.5641025641025641,0.5641025641025641,0.5641025641025641,0.5641025641025641,0.5641025641025641,0.559322033898305,0.5630252100840336,0.5583333333333333,0.5619834710743802,0.5655737704918032,0.5609756097560976,0.5609756097560976,0.5609756097560976],\"type\":\"scatter\"},{\"line\":{\"color\":\"purple\",\"width\":4},\"mode\":\"lines\",\"name\":\"Recall Across All Time\",\"opacity\":0.7,\"x\":[\"2024-03-01\",\"2024-03-02\",\"2024-03-03\",\"2024-03-04\",\"2024-03-05\",\"2024-03-06\",\"2024-03-07\",\"2024-03-08\",\"2024-03-09\",\"2024-03-10\",\"2024-03-11\",\"2024-03-12\",\"2024-03-13\",\"2024-03-14\",\"2024-03-15\",\"2024-03-16\",\"2024-03-17\",\"2024-03-18\",\"2024-03-19\",\"2024-03-20\",\"2024-03-21\",\"2024-03-22\",\"2024-03-23\",\"2024-03-24\",\"2024-03-25\",\"2024-03-26\",\"2024-03-27\",\"2024-03-28\",\"2024-03-29\",\"2024-03-30\",\"2024-03-31\",\"2024-04-01\",\"2024-04-02\",\"2024-04-03\",\"2024-04-04\",\"2024-04-05\",\"2024-04-06\",\"2024-04-07\",\"2024-04-08\",\"2024-04-09\",\"2024-04-10\",\"2024-04-11\",\"2024-04-12\",\"2024-04-13\",\"2024-04-14\",\"2024-04-15\",\"2024-04-16\",\"2024-04-17\",\"2024-04-18\",\"2024-04-19\",\"2024-04-20\",\"2024-04-21\",\"2024-04-22\",\"2024-04-23\",\"2024-04-24\",\"2024-04-25\",\"2024-04-26\",\"2024-04-27\",\"2024-04-28\",\"2024-04-29\",\"2024-04-30\",\"2024-05-01\",\"2024-05-02\",\"2024-05-03\",\"2024-05-04\",\"2024-05-05\",\"2024-05-06\",\"2024-05-07\",\"2024-05-08\",\"2024-05-09\",\"2024-05-10\",\"2024-05-11\",\"2024-05-12\",\"2024-05-13\",\"2024-05-14\",\"2024-05-15\",\"2024-05-16\",\"2024-05-17\",\"2024-05-18\",\"2024-05-19\",\"2024-05-20\",\"2024-05-21\",\"2024-05-22\",\"2024-05-23\",\"2024-05-24\",\"2024-05-25\",\"2024-05-26\",\"2024-05-27\",\"2024-05-28\",\"2024-05-29\",\"2024-05-30\",\"2024-05-31\",\"2024-06-01\",\"2024-06-02\",\"2024-06-03\",\"2024-06-04\",\"2024-06-05\",\"2024-06-06\",\"2024-06-07\",\"2024-06-08\",\"2024-06-09\",\"2024-06-10\",\"2024-06-11\",\"2024-06-12\",\"2024-06-13\",\"2024-06-14\",\"2024-06-15\",\"2024-06-16\",\"2024-06-17\",\"2024-06-18\",\"2024-06-19\",\"2024-06-20\",\"2024-06-21\",\"2024-06-22\",\"2024-06-23\",\"2024-06-24\",\"2024-06-25\",\"2024-06-26\",\"2024-06-27\",\"2024-06-28\",\"2024-06-29\",\"2024-06-30\",\"2024-07-01\",\"2024-07-02\",\"2024-07-03\",\"2024-07-04\",\"2024-07-05\",\"2024-07-06\",\"2024-07-07\",\"2024-07-08\",\"2024-07-09\",\"2024-07-10\",\"2024-07-11\"],\"y\":[0.5476190476190477,0.5529411764705883,0.5465116279069767,0.5465116279069767,0.5517241379310345,0.5454545454545454,0.550561797752809,0.5555555555555556,0.5494505494505495,0.5543478260869565,0.5543478260869565,0.5591397849462365,0.5591397849462365,0.5591397849462365,0.5591397849462365,0.5531914893617021,0.5531914893617021,0.5531914893617021,0.5473684210526316,0.5473684210526316,0.5473684210526316,0.5416666666666666,0.5360824742268041,0.5408163265306123,0.5353535353535354,0.5353535353535354,0.53,0.53,0.53,0.5247524752475248,0.5247524752475248,0.5247524752475248,0.5196078431372549,0.5242718446601942,0.5242718446601942,0.5192307692307693,0.5142857142857142,0.5094339622641509,0.5094339622641509,0.5046728971962616,0.5046728971962616,0.5046728971962616,0.5046728971962616,0.5,0.5,0.4954128440366973,0.4954128440366973,0.5,0.4954954954954955,0.49107142857142855,0.49107142857142855,0.48672566371681414,0.48672566371681414,0.48672566371681414,0.4824561403508772,0.4824561403508772,0.4824561403508772,0.4824561403508772,0.48695652173913045,0.48695652173913045,0.48695652173913045,0.49137931034482757,0.49572649572649574,0.5,0.4957983193277311,0.4957983193277311,0.4957983193277311,0.4957983193277311,0.49166666666666664,0.49166666666666664,0.48760330578512395,0.48360655737704916,0.4878048780487805,0.4878048780487805,0.4838709677419355,0.4838709677419355,0.48,0.48,0.48,0.47619047619047616,0.47619047619047616,0.47619047619047616,0.47619047619047616,0.47244094488188976,0.46875,0.46875,0.46511627906976744,0.46511627906976744,0.46511627906976744,0.46153846153846156,0.46153846153846156,0.4580152671755725,0.45454545454545453,0.45112781954887216,0.44776119402985076,0.4444444444444444,0.4444444444444444,0.4444444444444444,0.4444444444444444,0.4411764705882353,0.4411764705882353,0.4411764705882353,0.43795620437956206,0.43795620437956206,0.43795620437956206,0.4420289855072464,0.4460431654676259,0.4460431654676259,0.4460431654676259,0.4460431654676259,0.4460431654676259,0.4460431654676259,0.44285714285714284,0.44285714285714284,0.44285714285714284,0.44680851063829785,0.44680851063829785,0.4507042253521127,0.4507042253521127,0.45454545454545453,0.4583333333333333,0.45517241379310347,0.45517241379310347,0.45517241379310347,0.45517241379310347,0.45517241379310347,0.4589041095890411,0.4589041095890411,0.46258503401360546,0.46621621621621623,0.46621621621621623,0.46621621621621623,0.46308724832214765],\"type\":\"scatter\"},{\"marker\":{\"color\":\"purple\",\"size\":10},\"mode\":\"markers\",\"x\":[\"2024-03-01\",\"2024-07-11\"],\"y\":[0.5476190476190477,0.46308724832214765],\"type\":\"scatter\"},{\"marker\":{\"color\":\"blue\",\"size\":10},\"mode\":\"markers\",\"x\":[\"2024-03-01\",\"2024-07-11\"],\"y\":[0.6052631578947368,0.5609756097560976],\"type\":\"scatter\"}],                        {\"template\":{\"data\":{\"histogram2dcontour\":[{\"type\":\"histogram2dcontour\",\"colorbar\":{\"outlinewidth\":0,\"ticks\":\"\"},\"colorscale\":[[0.0,\"#0d0887\"],[0.1111111111111111,\"#46039f\"],[0.2222222222222222,\"#7201a8\"],[0.3333333333333333,\"#9c179e\"],[0.4444444444444444,\"#bd3786\"],[0.5555555555555556,\"#d8576b\"],[0.6666666666666666,\"#ed7953\"],[0.7777777777777778,\"#fb9f3a\"],[0.8888888888888888,\"#fdca26\"],[1.0,\"#f0f921\"]]}],\"choropleth\":[{\"type\":\"choropleth\",\"colorbar\":{\"outlinewidth\":0,\"ticks\":\"\"}}],\"histogram2d\":[{\"type\":\"histogram2d\",\"colorbar\":{\"outlinewidth\":0,\"ticks\":\"\"},\"colorscale\":[[0.0,\"#0d0887\"],[0.1111111111111111,\"#46039f\"],[0.2222222222222222,\"#7201a8\"],[0.3333333333333333,\"#9c179e\"],[0.4444444444444444,\"#bd3786\"],[0.5555555555555556,\"#d8576b\"],[0.6666666666666666,\"#ed7953\"],[0.7777777777777778,\"#fb9f3a\"],[0.8888888888888888,\"#fdca26\"],[1.0,\"#f0f921\"]]}],\"heatmap\":[{\"type\":\"heatmap\",\"colorbar\":{\"outlinewidth\":0,\"ticks\":\"\"},\"colorscale\":[[0.0,\"#0d0887\"],[0.1111111111111111,\"#46039f\"],[0.2222222222222222,\"#7201a8\"],[0.3333333333333333,\"#9c179e\"],[0.4444444444444444,\"#bd3786\"],[0.5555555555555556,\"#d8576b\"],[0.6666666666666666,\"#ed7953\"],[0.7777777777777778,\"#fb9f3a\"],[0.8888888888888888,\"#fdca26\"],[1.0,\"#f0f921\"]]}],\"heatmapgl\":[{\"type\":\"heatmapgl\",\"colorbar\":{\"outlinewidth\":0,\"ticks\":\"\"},\"colorscale\":[[0.0,\"#0d0887\"],[0.1111111111111111,\"#46039f\"],[0.2222222222222222,\"#7201a8\"],[0.3333333333333333,\"#9c179e\"],[0.4444444444444444,\"#bd3786\"],[0.5555555555555556,\"#d8576b\"],[0.6666666666666666,\"#ed7953\"],[0.7777777777777778,\"#fb9f3a\"],[0.8888888888888888,\"#fdca26\"],[1.0,\"#f0f921\"]]}],\"contourcarpet\":[{\"type\":\"contourcarpet\",\"colorbar\":{\"outlinewidth\":0,\"ticks\":\"\"}}],\"contour\":[{\"type\":\"contour\",\"colorbar\":{\"outlinewidth\":0,\"ticks\":\"\"},\"colorscale\":[[0.0,\"#0d0887\"],[0.1111111111111111,\"#46039f\"],[0.2222222222222222,\"#7201a8\"],[0.3333333333333333,\"#9c179e\"],[0.4444444444444444,\"#bd3786\"],[0.5555555555555556,\"#d8576b\"],[0.6666666666666666,\"#ed7953\"],[0.7777777777777778,\"#fb9f3a\"],[0.8888888888888888,\"#fdca26\"],[1.0,\"#f0f921\"]]}],\"surface\":[{\"type\":\"surface\",\"colorbar\":{\"outlinewidth\":0,\"ticks\":\"\"},\"colorscale\":[[0.0,\"#0d0887\"],[0.1111111111111111,\"#46039f\"],[0.2222222222222222,\"#7201a8\"],[0.3333333333333333,\"#9c179e\"],[0.4444444444444444,\"#bd3786\"],[0.5555555555555556,\"#d8576b\"],[0.6666666666666666,\"#ed7953\"],[0.7777777777777778,\"#fb9f3a\"],[0.8888888888888888,\"#fdca26\"],[1.0,\"#f0f921\"]]}],\"mesh3d\":[{\"type\":\"mesh3d\",\"colorbar\":{\"outlinewidth\":0,\"ticks\":\"\"}}],\"scatter\":[{\"fillpattern\":{\"fillmode\":\"overlay\",\"size\":10,\"solidity\":0.2},\"type\":\"scatter\"}],\"parcoords\":[{\"type\":\"parcoords\",\"line\":{\"colorbar\":{\"outlinewidth\":0,\"ticks\":\"\"}}}],\"scatterpolargl\":[{\"type\":\"scatterpolargl\",\"marker\":{\"colorbar\":{\"outlinewidth\":0,\"ticks\":\"\"}}}],\"bar\":[{\"error_x\":{\"color\":\"#2a3f5f\"},\"error_y\":{\"color\":\"#2a3f5f\"},\"marker\":{\"line\":{\"color\":\"#E5ECF6\",\"width\":0.5},\"pattern\":{\"fillmode\":\"overlay\",\"size\":10,\"solidity\":0.2}},\"type\":\"bar\"}],\"scattergeo\":[{\"type\":\"scattergeo\",\"marker\":{\"colorbar\":{\"outlinewidth\":0,\"ticks\":\"\"}}}],\"scatterpolar\":[{\"type\":\"scatterpolar\",\"marker\":{\"colorbar\":{\"outlinewidth\":0,\"ticks\":\"\"}}}],\"histogram\":[{\"marker\":{\"pattern\":{\"fillmode\":\"overlay\",\"size\":10,\"solidity\":0.2}},\"type\":\"histogram\"}],\"scattergl\":[{\"type\":\"scattergl\",\"marker\":{\"colorbar\":{\"outlinewidth\":0,\"ticks\":\"\"}}}],\"scatter3d\":[{\"type\":\"scatter3d\",\"line\":{\"colorbar\":{\"outlinewidth\":0,\"ticks\":\"\"}},\"marker\":{\"colorbar\":{\"outlinewidth\":0,\"ticks\":\"\"}}}],\"scattermapbox\":[{\"type\":\"scattermapbox\",\"marker\":{\"colorbar\":{\"outlinewidth\":0,\"ticks\":\"\"}}}],\"scatterternary\":[{\"type\":\"scatterternary\",\"marker\":{\"colorbar\":{\"outlinewidth\":0,\"ticks\":\"\"}}}],\"scattercarpet\":[{\"type\":\"scattercarpet\",\"marker\":{\"colorbar\":{\"outlinewidth\":0,\"ticks\":\"\"}}}],\"carpet\":[{\"aaxis\":{\"endlinecolor\":\"#2a3f5f\",\"gridcolor\":\"white\",\"linecolor\":\"white\",\"minorgridcolor\":\"white\",\"startlinecolor\":\"#2a3f5f\"},\"baxis\":{\"endlinecolor\":\"#2a3f5f\",\"gridcolor\":\"white\",\"linecolor\":\"white\",\"minorgridcolor\":\"white\",\"startlinecolor\":\"#2a3f5f\"},\"type\":\"carpet\"}],\"table\":[{\"cells\":{\"fill\":{\"color\":\"#EBF0F8\"},\"line\":{\"color\":\"white\"}},\"header\":{\"fill\":{\"color\":\"#C8D4E3\"},\"line\":{\"color\":\"white\"}},\"type\":\"table\"}],\"barpolar\":[{\"marker\":{\"line\":{\"color\":\"#E5ECF6\",\"width\":0.5},\"pattern\":{\"fillmode\":\"overlay\",\"size\":10,\"solidity\":0.2}},\"type\":\"barpolar\"}],\"pie\":[{\"automargin\":true,\"type\":\"pie\"}]},\"layout\":{\"autotypenumbers\":\"strict\",\"colorway\":[\"#636efa\",\"#EF553B\",\"#00cc96\",\"#ab63fa\",\"#FFA15A\",\"#19d3f3\",\"#FF6692\",\"#B6E880\",\"#FF97FF\",\"#FECB52\"],\"font\":{\"color\":\"#2a3f5f\"},\"hovermode\":\"closest\",\"hoverlabel\":{\"align\":\"left\"},\"paper_bgcolor\":\"white\",\"plot_bgcolor\":\"#E5ECF6\",\"polar\":{\"bgcolor\":\"#E5ECF6\",\"angularaxis\":{\"gridcolor\":\"white\",\"linecolor\":\"white\",\"ticks\":\"\"},\"radialaxis\":{\"gridcolor\":\"white\",\"linecolor\":\"white\",\"ticks\":\"\"}},\"ternary\":{\"bgcolor\":\"#E5ECF6\",\"aaxis\":{\"gridcolor\":\"white\",\"linecolor\":\"white\",\"ticks\":\"\"},\"baxis\":{\"gridcolor\":\"white\",\"linecolor\":\"white\",\"ticks\":\"\"},\"caxis\":{\"gridcolor\":\"white\",\"linecolor\":\"white\",\"ticks\":\"\"}},\"coloraxis\":{\"colorbar\":{\"outlinewidth\":0,\"ticks\":\"\"}},\"colorscale\":{\"sequential\":[[0.0,\"#0d0887\"],[0.1111111111111111,\"#46039f\"],[0.2222222222222222,\"#7201a8\"],[0.3333333333333333,\"#9c179e\"],[0.4444444444444444,\"#bd3786\"],[0.5555555555555556,\"#d8576b\"],[0.6666666666666666,\"#ed7953\"],[0.7777777777777778,\"#fb9f3a\"],[0.8888888888888888,\"#fdca26\"],[1.0,\"#f0f921\"]],\"sequentialminus\":[[0.0,\"#0d0887\"],[0.1111111111111111,\"#46039f\"],[0.2222222222222222,\"#7201a8\"],[0.3333333333333333,\"#9c179e\"],[0.4444444444444444,\"#bd3786\"],[0.5555555555555556,\"#d8576b\"],[0.6666666666666666,\"#ed7953\"],[0.7777777777777778,\"#fb9f3a\"],[0.8888888888888888,\"#fdca26\"],[1.0,\"#f0f921\"]],\"diverging\":[[0,\"#8e0152\"],[0.1,\"#c51b7d\"],[0.2,\"#de77ae\"],[0.3,\"#f1b6da\"],[0.4,\"#fde0ef\"],[0.5,\"#f7f7f7\"],[0.6,\"#e6f5d0\"],[0.7,\"#b8e186\"],[0.8,\"#7fbc41\"],[0.9,\"#4d9221\"],[1,\"#276419\"]]},\"xaxis\":{\"gridcolor\":\"white\",\"linecolor\":\"white\",\"ticks\":\"\",\"title\":{\"standoff\":15},\"zerolinecolor\":\"white\",\"automargin\":true,\"zerolinewidth\":2},\"yaxis\":{\"gridcolor\":\"white\",\"linecolor\":\"white\",\"ticks\":\"\",\"title\":{\"standoff\":15},\"zerolinecolor\":\"white\",\"automargin\":true,\"zerolinewidth\":2},\"scene\":{\"xaxis\":{\"backgroundcolor\":\"#E5ECF6\",\"gridcolor\":\"white\",\"linecolor\":\"white\",\"showbackground\":true,\"ticks\":\"\",\"zerolinecolor\":\"white\",\"gridwidth\":2},\"yaxis\":{\"backgroundcolor\":\"#E5ECF6\",\"gridcolor\":\"white\",\"linecolor\":\"white\",\"showbackground\":true,\"ticks\":\"\",\"zerolinecolor\":\"white\",\"gridwidth\":2},\"zaxis\":{\"backgroundcolor\":\"#E5ECF6\",\"gridcolor\":\"white\",\"linecolor\":\"white\",\"showbackground\":true,\"ticks\":\"\",\"zerolinecolor\":\"white\",\"gridwidth\":2}},\"shapedefaults\":{\"line\":{\"color\":\"#2a3f5f\"}},\"annotationdefaults\":{\"arrowcolor\":\"#2a3f5f\",\"arrowhead\":0,\"arrowwidth\":1},\"geo\":{\"bgcolor\":\"white\",\"landcolor\":\"#E5ECF6\",\"subunitcolor\":\"white\",\"showland\":true,\"showlakes\":true,\"lakecolor\":\"white\"},\"title\":{\"x\":0.05},\"mapbox\":{\"style\":\"light\"}}},\"xaxis\":{\"tickfont\":{\"family\":\"Arial\",\"size\":12,\"color\":\"rgb(82, 82, 82)\"},\"showline\":true,\"showgrid\":true,\"showticklabels\":true,\"linecolor\":\"rgb(0, 0, 0)\",\"linewidth\":2,\"ticks\":\"outside\"},\"yaxis\":{\"showgrid\":true,\"zeroline\":false,\"showline\":true,\"showticklabels\":false},\"margin\":{\"autoexpand\":false,\"l\":100,\"r\":20,\"t\":110},\"autosize\":false,\"showlegend\":false,\"plot_bgcolor\":\"white\",\"annotations\":[{\"font\":{\"family\":\"Arial\",\"size\":14},\"showarrow\":false,\"text\":\"Recall 55%\",\"x\":0.05,\"xanchor\":\"right\",\"xref\":\"paper\",\"y\":0.5476190476190477,\"yanchor\":\"middle\"},{\"font\":{\"family\":\"Arial\",\"size\":14},\"showarrow\":false,\"text\":\"46.31%\",\"x\":0.95,\"xanchor\":\"left\",\"xref\":\"paper\",\"y\":0.46,\"yanchor\":\"middle\"},{\"font\":{\"family\":\"Arial\",\"size\":14},\"showarrow\":false,\"text\":\"Precision 61%\",\"x\":0.05,\"xanchor\":\"right\",\"xref\":\"paper\",\"y\":0.6052631578947368,\"yanchor\":\"middle\"},{\"font\":{\"family\":\"Arial\",\"size\":14},\"showarrow\":false,\"text\":\"56.1%\",\"x\":0.95,\"xanchor\":\"left\",\"xref\":\"paper\",\"y\":0.56,\"yanchor\":\"middle\"},{\"font\":{\"color\":\"rgb(37,37,37)\",\"family\":\"Arial\",\"size\":30},\"showarrow\":false,\"text\":\"Gradient Boost\",\"x\":0.0,\"xanchor\":\"left\",\"xref\":\"paper\",\"y\":1.05,\"yanchor\":\"bottom\",\"yref\":\"paper\"}]},                        {\"responsive\": true}                    ).then(function(){\n",
       "                            \n",
       "var gd = document.getElementById('fd4b662b-c59b-4077-81ab-2bb60ed91369');\n",
       "var x = new MutationObserver(function (mutations, observer) {{\n",
       "        var display = window.getComputedStyle(gd).display;\n",
       "        if (!display || display === 'none') {{\n",
       "            console.log([gd, 'removed!']);\n",
       "            Plotly.purge(gd);\n",
       "            observer.disconnect();\n",
       "        }}\n",
       "}});\n",
       "\n",
       "// Listen for the removal of the full notebook cells\n",
       "var notebookContainer = gd.closest('#notebook-container');\n",
       "if (notebookContainer) {{\n",
       "    x.observe(notebookContainer, {childList: true});\n",
       "}}\n",
       "\n",
       "// Listen for the clearing of the current output cell\n",
       "var outputEl = gd.closest('.output');\n",
       "if (outputEl) {{\n",
       "    x.observe(outputEl, {childList: true});\n",
       "}}\n",
       "\n",
       "                        })                };                });            </script>        </div>"
      ]
     },
     "metadata": {},
     "output_type": "display_data"
    }
   ],
   "source": [
    "import plotly.graph_objects as go\n",
    "\n",
    "\n",
    "# Create traces\n",
    "fig_rf = go.Figure()\n",
    "fig_rf.add_trace(go.Scatter(\n",
    "                x=df[\"date\"], \n",
    "                y=df[\"precision_total\"],\n",
    "                mode=\"lines\",\n",
    "                name=\"Precision Across All Time\",\n",
    "                opacity=0.7,\n",
    "                line=dict(\n",
    "                color='blue',   \n",
    "                width=4)))\n",
    "    \n",
    "fig_rf.add_trace(go.Scatter(\n",
    "                x=df[\"date\"], \n",
    "                y=df[\"recall_total\"],\n",
    "                mode=\"lines\",\n",
    "                name=\"Recall Across All Time\",\n",
    "                opacity=0.7,\n",
    "                line=dict(\n",
    "                color='purple',   \n",
    "                width=4)))\n",
    "\n",
    "fig_rf.add_trace(go.Scatter(\n",
    "                x=[df[\"date\"].iloc[0], df[\"date\"].iloc[-1]],\n",
    "                y=[df[\"recall_total\"].iloc[0], df[\"recall_total\"].iloc[-1]],\n",
    "                mode=\"markers\",\n",
    "                marker=dict(color=\"purple\", size=10)))\n",
    "\n",
    "fig_rf.add_trace(go.Scatter(\n",
    "                x=[df[\"date\"].iloc[0], df[\"date\"].iloc[-1]],\n",
    "                y=[df[\"precision_total\"].iloc[0], df[\"precision_total\"].iloc[-1]],\n",
    "                mode=\"markers\",\n",
    "                marker=dict(color=\"blue\", size=10)))\n",
    "\n",
    "fig_rf.update_layout(\n",
    "    xaxis=dict(\n",
    "        showline=True,\n",
    "        showgrid=True,\n",
    "        showticklabels=True,\n",
    "        linecolor='rgb(0, 0, 0)',\n",
    "        linewidth=2,\n",
    "        ticks='outside',\n",
    "        tickfont=dict(\n",
    "            family='Arial',\n",
    "            size=12,\n",
    "            color='rgb(82, 82, 82)',\n",
    "        ),\n",
    "    ),\n",
    "    yaxis=dict(\n",
    "        showgrid=True,\n",
    "        zeroline=False,\n",
    "        showline=True,\n",
    "        showticklabels=False,\n",
    "    ),\n",
    "    autosize=False,\n",
    "    margin=dict(\n",
    "        autoexpand=False,\n",
    "        l=100,\n",
    "        r=20,\n",
    "        t=110,\n",
    "    ),\n",
    "    showlegend=False,\n",
    "    plot_bgcolor='white'\n",
    ")\n",
    "\n",
    "annotations = []\n",
    "\n",
    "# labels\n",
    "for y_trace, label, color in zip([df[\"recall_total\"], df[\"precision_total\"]], [\"Recall\", \"Precision\"], [\"purple\", \"blue\"]):\n",
    "    # left side annotation\n",
    "    annotations.append(dict(xref='paper', x=0.05, y=y_trace.iloc[0],\n",
    "                                  xanchor='right', yanchor='middle',\n",
    "                                  text=label + ' {}%'.format(round(100*y_trace.iloc[0])),\n",
    "                                  font=dict(family='Arial',\n",
    "                                            size=14),\n",
    "                                  showarrow=False))\n",
    "    # right side annotation\n",
    "    print(round(y_trace.iloc[0], 2))\n",
    "    annotations.append(dict(xref='paper', x=0.95, y=round(y_trace.iloc[-1], 2),\n",
    "                                  xanchor='left', yanchor='middle',\n",
    "                                  text='{}%'.format(round(100*y_trace.iloc[-1], 2)),\n",
    "                                  font=dict(family='Arial',\n",
    "                                            size=14),\n",
    "                                  showarrow=False))\n",
    "\n",
    "# title\n",
    "annotations.append(dict(xref='paper', yref='paper', x=0.0, y=1.05,\n",
    "                              xanchor='left', yanchor='bottom',\n",
    "                              text='Gradient Boost',\n",
    "                              font=dict(family='Arial',\n",
    "                                        size=30,\n",
    "                                        color='rgb(37,37,37)'),\n",
    "                              showarrow=False))\n",
    "\n",
    "fig_rf.update_layout(annotations=annotations)\n",
    "\n",
    "\n",
    "fig_rf.show()"
   ]
  },
  {
   "cell_type": "code",
   "execution_count": 255,
   "id": "d7257546-9a94-4d70-85b2-daf79d242bef",
   "metadata": {},
   "outputs": [],
   "source": [
    "from typing import List\n",
    "\n",
    "\n",
    "\n",
    "class GraphBTC:\n",
    "\n",
    "\n",
    "    def __init__(self, model: str, performance_data: pd.DataFrame, windows: List[str]):\n",
    "        self.label = model\n",
    "        self.performance_data = performance_data\n",
    "\n",
    "        self.figure = go.Figure()\n",
    "        self.annotations = []\n",
    "\n",
    "        for color, metric in zip([\"blue\", \"purple\"], [\"precision\", \"recall\"]):\n",
    "            for window in windows:\n",
    "                self.add_line(metric, window, color)\n",
    "                self.add_points(metric, window, color)\n",
    "                \n",
    "        for window in windows:\n",
    "            self.annotate(window)\n",
    "        \n",
    "        self.set_layout()\n",
    "        self.add_title()\n",
    "\n",
    "        self.figure.update_layout(annotations=self.annotations)\n",
    "\n",
    "    \n",
    "    def add_line(self, metric: str, window: str, color: str) -> None:\n",
    "        self.figure.add_trace(go.Scatter(\n",
    "                x=self.performance_data[\"date\"], \n",
    "                y=self.performance_data[f\"{metric}_{window}\"],\n",
    "                mode=\"lines\",\n",
    "                name=f\"{metric.capitalize()} Across All Time\",\n",
    "                opacity=0.7,\n",
    "                line=dict(\n",
    "                color=color,   \n",
    "                width=4)))\n",
    "        \n",
    "\n",
    "    def add_points(self, metric: str, window: str, color: str) -> None:\n",
    "        self.figure.add_trace(go.Scatter(\n",
    "                        x=[self.performance_data[\"date\"].iloc[0], self.performance_data[\"date\"].iloc[-1]],\n",
    "                        y=[self.performance_data[f\"{metric}_{window}\"].iloc[0], self.performance_data[f\"{metric}_{window}\"].iloc[-1]],\n",
    "                        mode=\"markers\",\n",
    "                        marker=dict(color=color, size=10)))\n",
    "        \n",
    "    \n",
    "    def set_layout(self) -> None:\n",
    "        self.figure.update_layout(\n",
    "            xaxis=dict(\n",
    "                showline=True,\n",
    "                showgrid=True,\n",
    "                showticklabels=True,\n",
    "                linecolor='rgb(0, 0, 0)',\n",
    "                linewidth=2,\n",
    "                ticks='outside',\n",
    "                tickfont=dict(\n",
    "                    family='Arial',\n",
    "                    size=12,\n",
    "                    color='rgb(82, 82, 82)',\n",
    "                ),\n",
    "            ),\n",
    "            yaxis=dict(\n",
    "                showgrid=True,\n",
    "                zeroline=False,\n",
    "                showline=True,\n",
    "                showticklabels=False,\n",
    "            ),\n",
    "            autosize=False,\n",
    "            margin=dict(\n",
    "                autoexpand=False,\n",
    "                l=100,\n",
    "                r=20,\n",
    "                t=110,\n",
    "            ),\n",
    "            showlegend=False,\n",
    "            plot_bgcolor='white'\n",
    "        )\n",
    "\n",
    "    \n",
    "    def annotate(self, window: str) -> None:\n",
    "        \n",
    "        for y_trace, label, color in zip([self.performance_data[f\"recall_{window}\"], self.performance_data[f\"precision_{window}\"]], [\"Recall\", \"Precision\"], [\"purple\", \"blue\"]):\n",
    "            # left side annotation\n",
    "            self.annotations.append(dict(xref='paper', x=0.05, y=y_trace.iloc[0],\n",
    "                                        xanchor='right', yanchor='middle',\n",
    "                                        text=label + ' {}%'.format(round(100*y_trace.iloc[0])),\n",
    "                                        font=dict(family='Arial',\n",
    "                                                    size=14,\n",
    "                                                    color=color),\n",
    "                                        showarrow=False))\n",
    "            # right side annotation\n",
    "            self.annotations.append(dict(xref='paper', x=0.95, y=round(y_trace.iloc[-1], 2),\n",
    "                                        xanchor='left', yanchor='middle',\n",
    "                                        text='{}%'.format(round(100*y_trace.iloc[-1], 2)),\n",
    "                                        font=dict(family='Arial',\n",
    "                                                    size=14,\n",
    "                                                    color=color),\n",
    "                                        showarrow=False))\n",
    "        \n",
    "\n",
    "    def add_title(self) -> None:\n",
    "        self.annotations.append(dict(xref='paper', yref='paper', x=0.0, y=1.05,\n",
    "                                    xanchor='left', yanchor='bottom',\n",
    "                                    text=self.label.capitalize(),\n",
    "                                    font=dict(family='Arial',\n",
    "                                                size=30,\n",
    "                                                color='rgb(37,37,37)'),\n",
    "                                    showarrow=False))\n",
    "\n",
    "    def get_graph(self) -> go.Figure:\n",
    "        return self.figure"
   ]
  },
  {
   "cell_type": "code",
   "execution_count": 265,
   "id": "ee278096-ee6f-4d73-80e9-17d7556f9c86",
   "metadata": {},
   "outputs": [
    {
     "data": {
      "application/vnd.plotly.v1+json": {
       "config": {
        "plotlyServerURL": "https://plot.ly"
       },
       "data": [
        {
         "line": {
          "color": "blue",
          "width": 4
         },
         "mode": "lines",
         "name": "Precision Across All Time",
         "opacity": 0.7,
         "type": "scatter",
         "x": [
          "2024-03-01",
          "2024-03-02",
          "2024-03-03",
          "2024-03-04",
          "2024-03-05",
          "2024-03-06",
          "2024-03-07",
          "2024-03-08",
          "2024-03-09",
          "2024-03-10",
          "2024-03-11",
          "2024-03-12",
          "2024-03-13",
          "2024-03-14",
          "2024-03-15",
          "2024-03-16",
          "2024-03-17",
          "2024-03-18",
          "2024-03-19",
          "2024-03-20",
          "2024-03-21",
          "2024-03-22",
          "2024-03-23",
          "2024-03-24",
          "2024-03-25",
          "2024-03-26",
          "2024-03-27",
          "2024-03-28",
          "2024-03-29",
          "2024-03-30",
          "2024-03-31",
          "2024-04-01",
          "2024-04-02",
          "2024-04-03",
          "2024-04-04",
          "2024-04-05",
          "2024-04-06",
          "2024-04-07",
          "2024-04-08",
          "2024-04-09",
          "2024-04-10",
          "2024-04-11",
          "2024-04-12",
          "2024-04-13",
          "2024-04-14",
          "2024-04-15",
          "2024-04-16",
          "2024-04-17",
          "2024-04-18",
          "2024-04-19",
          "2024-04-20",
          "2024-04-21",
          "2024-04-22",
          "2024-04-23",
          "2024-04-24",
          "2024-04-25",
          "2024-04-26",
          "2024-04-27",
          "2024-04-28",
          "2024-04-29",
          "2024-04-30",
          "2024-05-01",
          "2024-05-02",
          "2024-05-03",
          "2024-05-04",
          "2024-05-05",
          "2024-05-06",
          "2024-05-07",
          "2024-05-08",
          "2024-05-09",
          "2024-05-10",
          "2024-05-11",
          "2024-05-12",
          "2024-05-13",
          "2024-05-14",
          "2024-05-15",
          "2024-05-16",
          "2024-05-17",
          "2024-05-18",
          "2024-05-19",
          "2024-05-20",
          "2024-05-21",
          "2024-05-22",
          "2024-05-23",
          "2024-05-24",
          "2024-05-25",
          "2024-05-26",
          "2024-05-27",
          "2024-05-28",
          "2024-05-29",
          "2024-05-30",
          "2024-05-31",
          "2024-06-01",
          "2024-06-02",
          "2024-06-03",
          "2024-06-04",
          "2024-06-05",
          "2024-06-06",
          "2024-06-07",
          "2024-06-08",
          "2024-06-09",
          "2024-06-10",
          "2024-06-11",
          "2024-06-12",
          "2024-06-13",
          "2024-06-14",
          "2024-06-15",
          "2024-06-16",
          "2024-06-17",
          "2024-06-18",
          "2024-06-19",
          "2024-06-20",
          "2024-06-21",
          "2024-06-22",
          "2024-06-23",
          "2024-06-24",
          "2024-06-25",
          "2024-06-26",
          "2024-06-27",
          "2024-06-28",
          "2024-06-29",
          "2024-06-30",
          "2024-07-01",
          "2024-07-02",
          "2024-07-03",
          "2024-07-04",
          "2024-07-05",
          "2024-07-06",
          "2024-07-07",
          "2024-07-08",
          "2024-07-09",
          "2024-07-10",
          "2024-07-11"
         ],
         "y": [
          0.6052631578947368,
          0.6103896103896104,
          0.6103896103896104,
          0.6025641025641025,
          0.6075949367088608,
          0.6075949367088608,
          0.6125,
          0.6172839506172839,
          0.6172839506172839,
          0.6219512195121951,
          0.6144578313253012,
          0.6190476190476191,
          0.611764705882353,
          0.611764705882353,
          0.611764705882353,
          0.611764705882353,
          0.611764705882353,
          0.611764705882353,
          0.611764705882353,
          0.611764705882353,
          0.611764705882353,
          0.611764705882353,
          0.611764705882353,
          0.6162790697674418,
          0.6162790697674418,
          0.6162790697674418,
          0.6162790697674418,
          0.6162790697674418,
          0.6091954022988506,
          0.6091954022988506,
          0.6091954022988506,
          0.6091954022988506,
          0.6091954022988506,
          0.6136363636363636,
          0.6136363636363636,
          0.6136363636363636,
          0.6136363636363636,
          0.6136363636363636,
          0.6136363636363636,
          0.6136363636363636,
          0.6136363636363636,
          0.6067415730337079,
          0.6067415730337079,
          0.6067415730337079,
          0.6,
          0.6,
          0.5934065934065934,
          0.5978260869565217,
          0.5978260869565217,
          0.5978260869565217,
          0.5913978494623656,
          0.5913978494623656,
          0.5913978494623656,
          0.5913978494623656,
          0.5913978494623656,
          0.5913978494623656,
          0.5851063829787234,
          0.5789473684210527,
          0.5833333333333334,
          0.5833333333333334,
          0.5773195876288659,
          0.5816326530612245,
          0.5858585858585859,
          0.59,
          0.59,
          0.59,
          0.59,
          0.59,
          0.59,
          0.5841584158415841,
          0.5841584158415841,
          0.5841584158415841,
          0.5882352941176471,
          0.5882352941176471,
          0.5882352941176471,
          0.5882352941176471,
          0.5882352941176471,
          0.5882352941176471,
          0.5882352941176471,
          0.5882352941176471,
          0.5882352941176471,
          0.5825242718446602,
          0.5825242718446602,
          0.5825242718446602,
          0.5825242718446602,
          0.5825242718446602,
          0.5825242718446602,
          0.5825242718446602,
          0.5825242718446602,
          0.5825242718446602,
          0.5825242718446602,
          0.5825242718446602,
          0.5825242718446602,
          0.5825242718446602,
          0.5825242718446602,
          0.5825242718446602,
          0.5825242718446602,
          0.5769230769230769,
          0.5769230769230769,
          0.5769230769230769,
          0.5769230769230769,
          0.5714285714285714,
          0.5714285714285714,
          0.5714285714285714,
          0.5714285714285714,
          0.5754716981132075,
          0.5794392523364486,
          0.5794392523364486,
          0.5794392523364486,
          0.5794392523364486,
          0.5740740740740741,
          0.5688073394495413,
          0.5688073394495413,
          0.5636363636363636,
          0.5585585585585585,
          0.5625,
          0.5575221238938053,
          0.5614035087719298,
          0.5565217391304348,
          0.5603448275862069,
          0.5641025641025641,
          0.5641025641025641,
          0.5641025641025641,
          0.5641025641025641,
          0.5641025641025641,
          0.559322033898305,
          0.5630252100840336,
          0.5583333333333333,
          0.5619834710743802,
          0.5655737704918032,
          0.5609756097560976,
          0.5609756097560976,
          0.5609756097560976
         ]
        },
        {
         "marker": {
          "color": "blue",
          "size": 10
         },
         "mode": "markers",
         "type": "scatter",
         "x": [
          "2024-03-01",
          "2024-07-11"
         ],
         "y": [
          0.6052631578947368,
          0.5609756097560976
         ]
        },
        {
         "line": {
          "color": "purple",
          "width": 4
         },
         "mode": "lines",
         "name": "Recall Across All Time",
         "opacity": 0.7,
         "type": "scatter",
         "x": [
          "2024-03-01",
          "2024-03-02",
          "2024-03-03",
          "2024-03-04",
          "2024-03-05",
          "2024-03-06",
          "2024-03-07",
          "2024-03-08",
          "2024-03-09",
          "2024-03-10",
          "2024-03-11",
          "2024-03-12",
          "2024-03-13",
          "2024-03-14",
          "2024-03-15",
          "2024-03-16",
          "2024-03-17",
          "2024-03-18",
          "2024-03-19",
          "2024-03-20",
          "2024-03-21",
          "2024-03-22",
          "2024-03-23",
          "2024-03-24",
          "2024-03-25",
          "2024-03-26",
          "2024-03-27",
          "2024-03-28",
          "2024-03-29",
          "2024-03-30",
          "2024-03-31",
          "2024-04-01",
          "2024-04-02",
          "2024-04-03",
          "2024-04-04",
          "2024-04-05",
          "2024-04-06",
          "2024-04-07",
          "2024-04-08",
          "2024-04-09",
          "2024-04-10",
          "2024-04-11",
          "2024-04-12",
          "2024-04-13",
          "2024-04-14",
          "2024-04-15",
          "2024-04-16",
          "2024-04-17",
          "2024-04-18",
          "2024-04-19",
          "2024-04-20",
          "2024-04-21",
          "2024-04-22",
          "2024-04-23",
          "2024-04-24",
          "2024-04-25",
          "2024-04-26",
          "2024-04-27",
          "2024-04-28",
          "2024-04-29",
          "2024-04-30",
          "2024-05-01",
          "2024-05-02",
          "2024-05-03",
          "2024-05-04",
          "2024-05-05",
          "2024-05-06",
          "2024-05-07",
          "2024-05-08",
          "2024-05-09",
          "2024-05-10",
          "2024-05-11",
          "2024-05-12",
          "2024-05-13",
          "2024-05-14",
          "2024-05-15",
          "2024-05-16",
          "2024-05-17",
          "2024-05-18",
          "2024-05-19",
          "2024-05-20",
          "2024-05-21",
          "2024-05-22",
          "2024-05-23",
          "2024-05-24",
          "2024-05-25",
          "2024-05-26",
          "2024-05-27",
          "2024-05-28",
          "2024-05-29",
          "2024-05-30",
          "2024-05-31",
          "2024-06-01",
          "2024-06-02",
          "2024-06-03",
          "2024-06-04",
          "2024-06-05",
          "2024-06-06",
          "2024-06-07",
          "2024-06-08",
          "2024-06-09",
          "2024-06-10",
          "2024-06-11",
          "2024-06-12",
          "2024-06-13",
          "2024-06-14",
          "2024-06-15",
          "2024-06-16",
          "2024-06-17",
          "2024-06-18",
          "2024-06-19",
          "2024-06-20",
          "2024-06-21",
          "2024-06-22",
          "2024-06-23",
          "2024-06-24",
          "2024-06-25",
          "2024-06-26",
          "2024-06-27",
          "2024-06-28",
          "2024-06-29",
          "2024-06-30",
          "2024-07-01",
          "2024-07-02",
          "2024-07-03",
          "2024-07-04",
          "2024-07-05",
          "2024-07-06",
          "2024-07-07",
          "2024-07-08",
          "2024-07-09",
          "2024-07-10",
          "2024-07-11"
         ],
         "y": [
          0.5476190476190477,
          0.5529411764705883,
          0.5465116279069767,
          0.5465116279069767,
          0.5517241379310345,
          0.5454545454545454,
          0.550561797752809,
          0.5555555555555556,
          0.5494505494505495,
          0.5543478260869565,
          0.5543478260869565,
          0.5591397849462365,
          0.5591397849462365,
          0.5591397849462365,
          0.5591397849462365,
          0.5531914893617021,
          0.5531914893617021,
          0.5531914893617021,
          0.5473684210526316,
          0.5473684210526316,
          0.5473684210526316,
          0.5416666666666666,
          0.5360824742268041,
          0.5408163265306123,
          0.5353535353535354,
          0.5353535353535354,
          0.53,
          0.53,
          0.53,
          0.5247524752475248,
          0.5247524752475248,
          0.5247524752475248,
          0.5196078431372549,
          0.5242718446601942,
          0.5242718446601942,
          0.5192307692307693,
          0.5142857142857142,
          0.5094339622641509,
          0.5094339622641509,
          0.5046728971962616,
          0.5046728971962616,
          0.5046728971962616,
          0.5046728971962616,
          0.5,
          0.5,
          0.4954128440366973,
          0.4954128440366973,
          0.5,
          0.4954954954954955,
          0.49107142857142855,
          0.49107142857142855,
          0.48672566371681414,
          0.48672566371681414,
          0.48672566371681414,
          0.4824561403508772,
          0.4824561403508772,
          0.4824561403508772,
          0.4824561403508772,
          0.48695652173913045,
          0.48695652173913045,
          0.48695652173913045,
          0.49137931034482757,
          0.49572649572649574,
          0.5,
          0.4957983193277311,
          0.4957983193277311,
          0.4957983193277311,
          0.4957983193277311,
          0.49166666666666664,
          0.49166666666666664,
          0.48760330578512395,
          0.48360655737704916,
          0.4878048780487805,
          0.4878048780487805,
          0.4838709677419355,
          0.4838709677419355,
          0.48,
          0.48,
          0.48,
          0.47619047619047616,
          0.47619047619047616,
          0.47619047619047616,
          0.47619047619047616,
          0.47244094488188976,
          0.46875,
          0.46875,
          0.46511627906976744,
          0.46511627906976744,
          0.46511627906976744,
          0.46153846153846156,
          0.46153846153846156,
          0.4580152671755725,
          0.45454545454545453,
          0.45112781954887216,
          0.44776119402985076,
          0.4444444444444444,
          0.4444444444444444,
          0.4444444444444444,
          0.4444444444444444,
          0.4411764705882353,
          0.4411764705882353,
          0.4411764705882353,
          0.43795620437956206,
          0.43795620437956206,
          0.43795620437956206,
          0.4420289855072464,
          0.4460431654676259,
          0.4460431654676259,
          0.4460431654676259,
          0.4460431654676259,
          0.4460431654676259,
          0.4460431654676259,
          0.44285714285714284,
          0.44285714285714284,
          0.44285714285714284,
          0.44680851063829785,
          0.44680851063829785,
          0.4507042253521127,
          0.4507042253521127,
          0.45454545454545453,
          0.4583333333333333,
          0.45517241379310347,
          0.45517241379310347,
          0.45517241379310347,
          0.45517241379310347,
          0.45517241379310347,
          0.4589041095890411,
          0.4589041095890411,
          0.46258503401360546,
          0.46621621621621623,
          0.46621621621621623,
          0.46621621621621623,
          0.46308724832214765
         ]
        },
        {
         "marker": {
          "color": "purple",
          "size": 10
         },
         "mode": "markers",
         "type": "scatter",
         "x": [
          "2024-03-01",
          "2024-07-11"
         ],
         "y": [
          0.5476190476190477,
          0.46308724832214765
         ]
        }
       ],
       "layout": {
        "annotations": [
         {
          "font": {
           "color": "purple",
           "family": "Arial",
           "size": 14
          },
          "showarrow": false,
          "text": "Recall 55%",
          "x": 0.05,
          "xanchor": "right",
          "xref": "paper",
          "y": 0.5476190476190477,
          "yanchor": "middle"
         },
         {
          "font": {
           "color": "purple",
           "family": "Arial",
           "size": 14
          },
          "showarrow": false,
          "text": "46.31%",
          "x": 0.95,
          "xanchor": "left",
          "xref": "paper",
          "y": 0.46,
          "yanchor": "middle"
         },
         {
          "font": {
           "color": "blue",
           "family": "Arial",
           "size": 14
          },
          "showarrow": false,
          "text": "Precision 61%",
          "x": 0.05,
          "xanchor": "right",
          "xref": "paper",
          "y": 0.6052631578947368,
          "yanchor": "middle"
         },
         {
          "font": {
           "color": "blue",
           "family": "Arial",
           "size": 14
          },
          "showarrow": false,
          "text": "56.1%",
          "x": 0.95,
          "xanchor": "left",
          "xref": "paper",
          "y": 0.56,
          "yanchor": "middle"
         },
         {
          "font": {
           "color": "rgb(37,37,37)",
           "family": "Arial",
           "size": 30
          },
          "showarrow": false,
          "text": "Gradient boost",
          "x": 0,
          "xanchor": "left",
          "xref": "paper",
          "y": 1.05,
          "yanchor": "bottom",
          "yref": "paper"
         }
        ],
        "autosize": false,
        "height": 450,
        "margin": {
         "autoexpand": false,
         "l": 100,
         "r": 20,
         "t": 110
        },
        "plot_bgcolor": "white",
        "showlegend": false,
        "template": {
         "data": {
          "bar": [
           {
            "error_x": {
             "color": "#2a3f5f"
            },
            "error_y": {
             "color": "#2a3f5f"
            },
            "marker": {
             "line": {
              "color": "#E5ECF6",
              "width": 0.5
             },
             "pattern": {
              "fillmode": "overlay",
              "size": 10,
              "solidity": 0.2
             }
            },
            "type": "bar"
           }
          ],
          "barpolar": [
           {
            "marker": {
             "line": {
              "color": "#E5ECF6",
              "width": 0.5
             },
             "pattern": {
              "fillmode": "overlay",
              "size": 10,
              "solidity": 0.2
             }
            },
            "type": "barpolar"
           }
          ],
          "carpet": [
           {
            "aaxis": {
             "endlinecolor": "#2a3f5f",
             "gridcolor": "white",
             "linecolor": "white",
             "minorgridcolor": "white",
             "startlinecolor": "#2a3f5f"
            },
            "baxis": {
             "endlinecolor": "#2a3f5f",
             "gridcolor": "white",
             "linecolor": "white",
             "minorgridcolor": "white",
             "startlinecolor": "#2a3f5f"
            },
            "type": "carpet"
           }
          ],
          "choropleth": [
           {
            "colorbar": {
             "outlinewidth": 0,
             "ticks": ""
            },
            "type": "choropleth"
           }
          ],
          "contour": [
           {
            "colorbar": {
             "outlinewidth": 0,
             "ticks": ""
            },
            "colorscale": [
             [
              0,
              "#0d0887"
             ],
             [
              0.1111111111111111,
              "#46039f"
             ],
             [
              0.2222222222222222,
              "#7201a8"
             ],
             [
              0.3333333333333333,
              "#9c179e"
             ],
             [
              0.4444444444444444,
              "#bd3786"
             ],
             [
              0.5555555555555556,
              "#d8576b"
             ],
             [
              0.6666666666666666,
              "#ed7953"
             ],
             [
              0.7777777777777778,
              "#fb9f3a"
             ],
             [
              0.8888888888888888,
              "#fdca26"
             ],
             [
              1,
              "#f0f921"
             ]
            ],
            "type": "contour"
           }
          ],
          "contourcarpet": [
           {
            "colorbar": {
             "outlinewidth": 0,
             "ticks": ""
            },
            "type": "contourcarpet"
           }
          ],
          "heatmap": [
           {
            "colorbar": {
             "outlinewidth": 0,
             "ticks": ""
            },
            "colorscale": [
             [
              0,
              "#0d0887"
             ],
             [
              0.1111111111111111,
              "#46039f"
             ],
             [
              0.2222222222222222,
              "#7201a8"
             ],
             [
              0.3333333333333333,
              "#9c179e"
             ],
             [
              0.4444444444444444,
              "#bd3786"
             ],
             [
              0.5555555555555556,
              "#d8576b"
             ],
             [
              0.6666666666666666,
              "#ed7953"
             ],
             [
              0.7777777777777778,
              "#fb9f3a"
             ],
             [
              0.8888888888888888,
              "#fdca26"
             ],
             [
              1,
              "#f0f921"
             ]
            ],
            "type": "heatmap"
           }
          ],
          "heatmapgl": [
           {
            "colorbar": {
             "outlinewidth": 0,
             "ticks": ""
            },
            "colorscale": [
             [
              0,
              "#0d0887"
             ],
             [
              0.1111111111111111,
              "#46039f"
             ],
             [
              0.2222222222222222,
              "#7201a8"
             ],
             [
              0.3333333333333333,
              "#9c179e"
             ],
             [
              0.4444444444444444,
              "#bd3786"
             ],
             [
              0.5555555555555556,
              "#d8576b"
             ],
             [
              0.6666666666666666,
              "#ed7953"
             ],
             [
              0.7777777777777778,
              "#fb9f3a"
             ],
             [
              0.8888888888888888,
              "#fdca26"
             ],
             [
              1,
              "#f0f921"
             ]
            ],
            "type": "heatmapgl"
           }
          ],
          "histogram": [
           {
            "marker": {
             "pattern": {
              "fillmode": "overlay",
              "size": 10,
              "solidity": 0.2
             }
            },
            "type": "histogram"
           }
          ],
          "histogram2d": [
           {
            "colorbar": {
             "outlinewidth": 0,
             "ticks": ""
            },
            "colorscale": [
             [
              0,
              "#0d0887"
             ],
             [
              0.1111111111111111,
              "#46039f"
             ],
             [
              0.2222222222222222,
              "#7201a8"
             ],
             [
              0.3333333333333333,
              "#9c179e"
             ],
             [
              0.4444444444444444,
              "#bd3786"
             ],
             [
              0.5555555555555556,
              "#d8576b"
             ],
             [
              0.6666666666666666,
              "#ed7953"
             ],
             [
              0.7777777777777778,
              "#fb9f3a"
             ],
             [
              0.8888888888888888,
              "#fdca26"
             ],
             [
              1,
              "#f0f921"
             ]
            ],
            "type": "histogram2d"
           }
          ],
          "histogram2dcontour": [
           {
            "colorbar": {
             "outlinewidth": 0,
             "ticks": ""
            },
            "colorscale": [
             [
              0,
              "#0d0887"
             ],
             [
              0.1111111111111111,
              "#46039f"
             ],
             [
              0.2222222222222222,
              "#7201a8"
             ],
             [
              0.3333333333333333,
              "#9c179e"
             ],
             [
              0.4444444444444444,
              "#bd3786"
             ],
             [
              0.5555555555555556,
              "#d8576b"
             ],
             [
              0.6666666666666666,
              "#ed7953"
             ],
             [
              0.7777777777777778,
              "#fb9f3a"
             ],
             [
              0.8888888888888888,
              "#fdca26"
             ],
             [
              1,
              "#f0f921"
             ]
            ],
            "type": "histogram2dcontour"
           }
          ],
          "mesh3d": [
           {
            "colorbar": {
             "outlinewidth": 0,
             "ticks": ""
            },
            "type": "mesh3d"
           }
          ],
          "parcoords": [
           {
            "line": {
             "colorbar": {
              "outlinewidth": 0,
              "ticks": ""
             }
            },
            "type": "parcoords"
           }
          ],
          "pie": [
           {
            "automargin": true,
            "type": "pie"
           }
          ],
          "scatter": [
           {
            "fillpattern": {
             "fillmode": "overlay",
             "size": 10,
             "solidity": 0.2
            },
            "type": "scatter"
           }
          ],
          "scatter3d": [
           {
            "line": {
             "colorbar": {
              "outlinewidth": 0,
              "ticks": ""
             }
            },
            "marker": {
             "colorbar": {
              "outlinewidth": 0,
              "ticks": ""
             }
            },
            "type": "scatter3d"
           }
          ],
          "scattercarpet": [
           {
            "marker": {
             "colorbar": {
              "outlinewidth": 0,
              "ticks": ""
             }
            },
            "type": "scattercarpet"
           }
          ],
          "scattergeo": [
           {
            "marker": {
             "colorbar": {
              "outlinewidth": 0,
              "ticks": ""
             }
            },
            "type": "scattergeo"
           }
          ],
          "scattergl": [
           {
            "marker": {
             "colorbar": {
              "outlinewidth": 0,
              "ticks": ""
             }
            },
            "type": "scattergl"
           }
          ],
          "scattermapbox": [
           {
            "marker": {
             "colorbar": {
              "outlinewidth": 0,
              "ticks": ""
             }
            },
            "type": "scattermapbox"
           }
          ],
          "scatterpolar": [
           {
            "marker": {
             "colorbar": {
              "outlinewidth": 0,
              "ticks": ""
             }
            },
            "type": "scatterpolar"
           }
          ],
          "scatterpolargl": [
           {
            "marker": {
             "colorbar": {
              "outlinewidth": 0,
              "ticks": ""
             }
            },
            "type": "scatterpolargl"
           }
          ],
          "scatterternary": [
           {
            "marker": {
             "colorbar": {
              "outlinewidth": 0,
              "ticks": ""
             }
            },
            "type": "scatterternary"
           }
          ],
          "surface": [
           {
            "colorbar": {
             "outlinewidth": 0,
             "ticks": ""
            },
            "colorscale": [
             [
              0,
              "#0d0887"
             ],
             [
              0.1111111111111111,
              "#46039f"
             ],
             [
              0.2222222222222222,
              "#7201a8"
             ],
             [
              0.3333333333333333,
              "#9c179e"
             ],
             [
              0.4444444444444444,
              "#bd3786"
             ],
             [
              0.5555555555555556,
              "#d8576b"
             ],
             [
              0.6666666666666666,
              "#ed7953"
             ],
             [
              0.7777777777777778,
              "#fb9f3a"
             ],
             [
              0.8888888888888888,
              "#fdca26"
             ],
             [
              1,
              "#f0f921"
             ]
            ],
            "type": "surface"
           }
          ],
          "table": [
           {
            "cells": {
             "fill": {
              "color": "#EBF0F8"
             },
             "line": {
              "color": "white"
             }
            },
            "header": {
             "fill": {
              "color": "#C8D4E3"
             },
             "line": {
              "color": "white"
             }
            },
            "type": "table"
           }
          ]
         },
         "layout": {
          "annotationdefaults": {
           "arrowcolor": "#2a3f5f",
           "arrowhead": 0,
           "arrowwidth": 1
          },
          "autotypenumbers": "strict",
          "coloraxis": {
           "colorbar": {
            "outlinewidth": 0,
            "ticks": ""
           }
          },
          "colorscale": {
           "diverging": [
            [
             0,
             "#8e0152"
            ],
            [
             0.1,
             "#c51b7d"
            ],
            [
             0.2,
             "#de77ae"
            ],
            [
             0.3,
             "#f1b6da"
            ],
            [
             0.4,
             "#fde0ef"
            ],
            [
             0.5,
             "#f7f7f7"
            ],
            [
             0.6,
             "#e6f5d0"
            ],
            [
             0.7,
             "#b8e186"
            ],
            [
             0.8,
             "#7fbc41"
            ],
            [
             0.9,
             "#4d9221"
            ],
            [
             1,
             "#276419"
            ]
           ],
           "sequential": [
            [
             0,
             "#0d0887"
            ],
            [
             0.1111111111111111,
             "#46039f"
            ],
            [
             0.2222222222222222,
             "#7201a8"
            ],
            [
             0.3333333333333333,
             "#9c179e"
            ],
            [
             0.4444444444444444,
             "#bd3786"
            ],
            [
             0.5555555555555556,
             "#d8576b"
            ],
            [
             0.6666666666666666,
             "#ed7953"
            ],
            [
             0.7777777777777778,
             "#fb9f3a"
            ],
            [
             0.8888888888888888,
             "#fdca26"
            ],
            [
             1,
             "#f0f921"
            ]
           ],
           "sequentialminus": [
            [
             0,
             "#0d0887"
            ],
            [
             0.1111111111111111,
             "#46039f"
            ],
            [
             0.2222222222222222,
             "#7201a8"
            ],
            [
             0.3333333333333333,
             "#9c179e"
            ],
            [
             0.4444444444444444,
             "#bd3786"
            ],
            [
             0.5555555555555556,
             "#d8576b"
            ],
            [
             0.6666666666666666,
             "#ed7953"
            ],
            [
             0.7777777777777778,
             "#fb9f3a"
            ],
            [
             0.8888888888888888,
             "#fdca26"
            ],
            [
             1,
             "#f0f921"
            ]
           ]
          },
          "colorway": [
           "#636efa",
           "#EF553B",
           "#00cc96",
           "#ab63fa",
           "#FFA15A",
           "#19d3f3",
           "#FF6692",
           "#B6E880",
           "#FF97FF",
           "#FECB52"
          ],
          "font": {
           "color": "#2a3f5f"
          },
          "geo": {
           "bgcolor": "white",
           "lakecolor": "white",
           "landcolor": "#E5ECF6",
           "showlakes": true,
           "showland": true,
           "subunitcolor": "white"
          },
          "hoverlabel": {
           "align": "left"
          },
          "hovermode": "closest",
          "mapbox": {
           "style": "light"
          },
          "paper_bgcolor": "white",
          "plot_bgcolor": "#E5ECF6",
          "polar": {
           "angularaxis": {
            "gridcolor": "white",
            "linecolor": "white",
            "ticks": ""
           },
           "bgcolor": "#E5ECF6",
           "radialaxis": {
            "gridcolor": "white",
            "linecolor": "white",
            "ticks": ""
           }
          },
          "scene": {
           "xaxis": {
            "backgroundcolor": "#E5ECF6",
            "gridcolor": "white",
            "gridwidth": 2,
            "linecolor": "white",
            "showbackground": true,
            "ticks": "",
            "zerolinecolor": "white"
           },
           "yaxis": {
            "backgroundcolor": "#E5ECF6",
            "gridcolor": "white",
            "gridwidth": 2,
            "linecolor": "white",
            "showbackground": true,
            "ticks": "",
            "zerolinecolor": "white"
           },
           "zaxis": {
            "backgroundcolor": "#E5ECF6",
            "gridcolor": "white",
            "gridwidth": 2,
            "linecolor": "white",
            "showbackground": true,
            "ticks": "",
            "zerolinecolor": "white"
           }
          },
          "shapedefaults": {
           "line": {
            "color": "#2a3f5f"
           }
          },
          "ternary": {
           "aaxis": {
            "gridcolor": "white",
            "linecolor": "white",
            "ticks": ""
           },
           "baxis": {
            "gridcolor": "white",
            "linecolor": "white",
            "ticks": ""
           },
           "bgcolor": "#E5ECF6",
           "caxis": {
            "gridcolor": "white",
            "linecolor": "white",
            "ticks": ""
           }
          },
          "title": {
           "x": 0.05
          },
          "xaxis": {
           "automargin": true,
           "gridcolor": "white",
           "linecolor": "white",
           "ticks": "",
           "title": {
            "standoff": 15
           },
           "zerolinecolor": "white",
           "zerolinewidth": 2
          },
          "yaxis": {
           "automargin": true,
           "gridcolor": "white",
           "linecolor": "white",
           "ticks": "",
           "title": {
            "standoff": 15
           },
           "zerolinecolor": "white",
           "zerolinewidth": 2
          }
         }
        },
        "width": 700,
        "xaxis": {
         "autorange": true,
         "linecolor": "rgb(0, 0, 0)",
         "linewidth": 2,
         "range": [
          "2024-02-20 20:49:13.4838",
          "2024-07-20 03:10:46.5162"
         ],
         "showgrid": true,
         "showline": true,
         "showticklabels": true,
         "tickfont": {
          "color": "rgb(82, 82, 82)",
          "family": "Arial",
          "size": 12
         },
         "ticks": "outside",
         "type": "date"
        },
        "yaxis": {
         "autorange": true,
         "range": [
          0.42773425909441576,
          0.6321731647973414
         ],
         "showgrid": true,
         "showline": true,
         "showticklabels": false,
         "type": "linear",
         "zeroline": false
        }
       }
      },
      "image/png": "[encoded data removed]",
      "text/html": [
       "<div>                            <div id=\"2e3dc0e9-b386-4522-83a0-a3dd90af564b\" class=\"plotly-graph-div\" style=\"height:525px; width:100%;\"></div>            <script type=\"text/javascript\">                require([\"plotly\"], function(Plotly) {                    window.PLOTLYENV=window.PLOTLYENV || {};                                    if (document.getElementById(\"2e3dc0e9-b386-4522-83a0-a3dd90af564b\")) {                    Plotly.newPlot(                        \"2e3dc0e9-b386-4522-83a0-a3dd90af564b\",                        [{\"line\":{\"color\":\"blue\",\"width\":4},\"mode\":\"lines\",\"name\":\"Precision Across All Time\",\"opacity\":0.7,\"x\":[\"2024-03-01\",\"2024-03-02\",\"2024-03-03\",\"2024-03-04\",\"2024-03-05\",\"2024-03-06\",\"2024-03-07\",\"2024-03-08\",\"2024-03-09\",\"2024-03-10\",\"2024-03-11\",\"2024-03-12\",\"2024-03-13\",\"2024-03-14\",\"2024-03-15\",\"2024-03-16\",\"2024-03-17\",\"2024-03-18\",\"2024-03-19\",\"2024-03-20\",\"2024-03-21\",\"2024-03-22\",\"2024-03-23\",\"2024-03-24\",\"2024-03-25\",\"2024-03-26\",\"2024-03-27\",\"2024-03-28\",\"2024-03-29\",\"2024-03-30\",\"2024-03-31\",\"2024-04-01\",\"2024-04-02\",\"2024-04-03\",\"2024-04-04\",\"2024-04-05\",\"2024-04-06\",\"2024-04-07\",\"2024-04-08\",\"2024-04-09\",\"2024-04-10\",\"2024-04-11\",\"2024-04-12\",\"2024-04-13\",\"2024-04-14\",\"2024-04-15\",\"2024-04-16\",\"2024-04-17\",\"2024-04-18\",\"2024-04-19\",\"2024-04-20\",\"2024-04-21\",\"2024-04-22\",\"2024-04-23\",\"2024-04-24\",\"2024-04-25\",\"2024-04-26\",\"2024-04-27\",\"2024-04-28\",\"2024-04-29\",\"2024-04-30\",\"2024-05-01\",\"2024-05-02\",\"2024-05-03\",\"2024-05-04\",\"2024-05-05\",\"2024-05-06\",\"2024-05-07\",\"2024-05-08\",\"2024-05-09\",\"2024-05-10\",\"2024-05-11\",\"2024-05-12\",\"2024-05-13\",\"2024-05-14\",\"2024-05-15\",\"2024-05-16\",\"2024-05-17\",\"2024-05-18\",\"2024-05-19\",\"2024-05-20\",\"2024-05-21\",\"2024-05-22\",\"2024-05-23\",\"2024-05-24\",\"2024-05-25\",\"2024-05-26\",\"2024-05-27\",\"2024-05-28\",\"2024-05-29\",\"2024-05-30\",\"2024-05-31\",\"2024-06-01\",\"2024-06-02\",\"2024-06-03\",\"2024-06-04\",\"2024-06-05\",\"2024-06-06\",\"2024-06-07\",\"2024-06-08\",\"2024-06-09\",\"2024-06-10\",\"2024-06-11\",\"2024-06-12\",\"2024-06-13\",\"2024-06-14\",\"2024-06-15\",\"2024-06-16\",\"2024-06-17\",\"2024-06-18\",\"2024-06-19\",\"2024-06-20\",\"2024-06-21\",\"2024-06-22\",\"2024-06-23\",\"2024-06-24\",\"2024-06-25\",\"2024-06-26\",\"2024-06-27\",\"2024-06-28\",\"2024-06-29\",\"2024-06-30\",\"2024-07-01\",\"2024-07-02\",\"2024-07-03\",\"2024-07-04\",\"2024-07-05\",\"2024-07-06\",\"2024-07-07\",\"2024-07-08\",\"2024-07-09\",\"2024-07-10\",\"2024-07-11\"],\"y\":[0.6052631578947368,0.6103896103896104,0.6103896103896104,0.6025641025641025,0.6075949367088608,0.6075949367088608,0.6125,0.6172839506172839,0.6172839506172839,0.6219512195121951,0.6144578313253012,0.6190476190476191,0.611764705882353,0.611764705882353,0.611764705882353,0.611764705882353,0.611764705882353,0.611764705882353,0.611764705882353,0.611764705882353,0.611764705882353,0.611764705882353,0.611764705882353,0.6162790697674418,0.6162790697674418,0.6162790697674418,0.6162790697674418,0.6162790697674418,0.6091954022988506,0.6091954022988506,0.6091954022988506,0.6091954022988506,0.6091954022988506,0.6136363636363636,0.6136363636363636,0.6136363636363636,0.6136363636363636,0.6136363636363636,0.6136363636363636,0.6136363636363636,0.6136363636363636,0.6067415730337079,0.6067415730337079,0.6067415730337079,0.6,0.6,0.5934065934065934,0.5978260869565217,0.5978260869565217,0.5978260869565217,0.5913978494623656,0.5913978494623656,0.5913978494623656,0.5913978494623656,0.5913978494623656,0.5913978494623656,0.5851063829787234,0.5789473684210527,0.5833333333333334,0.5833333333333334,0.5773195876288659,0.5816326530612245,0.5858585858585859,0.59,0.59,0.59,0.59,0.59,0.59,0.5841584158415841,0.5841584158415841,0.5841584158415841,0.5882352941176471,0.5882352941176471,0.5882352941176471,0.5882352941176471,0.5882352941176471,0.5882352941176471,0.5882352941176471,0.5882352941176471,0.5882352941176471,0.5825242718446602,0.5825242718446602,0.5825242718446602,0.5825242718446602,0.5825242718446602,0.5825242718446602,0.5825242718446602,0.5825242718446602,0.5825242718446602,0.5825242718446602,0.5825242718446602,0.5825242718446602,0.5825242718446602,0.5825242718446602,0.5825242718446602,0.5825242718446602,0.5769230769230769,0.5769230769230769,0.5769230769230769,0.5769230769230769,0.5714285714285714,0.5714285714285714,0.5714285714285714,0.5714285714285714,0.5754716981132075,0.5794392523364486,0.5794392523364486,0.5794392523364486,0.5794392523364486,0.5740740740740741,0.5688073394495413,0.5688073394495413,0.5636363636363636,0.5585585585585585,0.5625,0.5575221238938053,0.5614035087719298,0.5565217391304348,0.5603448275862069,0.5641025641025641,0.5641025641025641,0.5641025641025641,0.5641025641025641,0.5641025641025641,0.559322033898305,0.5630252100840336,0.5583333333333333,0.5619834710743802,0.5655737704918032,0.5609756097560976,0.5609756097560976,0.5609756097560976],\"type\":\"scatter\"},{\"marker\":{\"color\":\"blue\",\"size\":10},\"mode\":\"markers\",\"x\":[\"2024-03-01\",\"2024-07-11\"],\"y\":[0.6052631578947368,0.5609756097560976],\"type\":\"scatter\"},{\"line\":{\"color\":\"purple\",\"width\":4},\"mode\":\"lines\",\"name\":\"Recall Across All Time\",\"opacity\":0.7,\"x\":[\"2024-03-01\",\"2024-03-02\",\"2024-03-03\",\"2024-03-04\",\"2024-03-05\",\"2024-03-06\",\"2024-03-07\",\"2024-03-08\",\"2024-03-09\",\"2024-03-10\",\"2024-03-11\",\"2024-03-12\",\"2024-03-13\",\"2024-03-14\",\"2024-03-15\",\"2024-03-16\",\"2024-03-17\",\"2024-03-18\",\"2024-03-19\",\"2024-03-20\",\"2024-03-21\",\"2024-03-22\",\"2024-03-23\",\"2024-03-24\",\"2024-03-25\",\"2024-03-26\",\"2024-03-27\",\"2024-03-28\",\"2024-03-29\",\"2024-03-30\",\"2024-03-31\",\"2024-04-01\",\"2024-04-02\",\"2024-04-03\",\"2024-04-04\",\"2024-04-05\",\"2024-04-06\",\"2024-04-07\",\"2024-04-08\",\"2024-04-09\",\"2024-04-10\",\"2024-04-11\",\"2024-04-12\",\"2024-04-13\",\"2024-04-14\",\"2024-04-15\",\"2024-04-16\",\"2024-04-17\",\"2024-04-18\",\"2024-04-19\",\"2024-04-20\",\"2024-04-21\",\"2024-04-22\",\"2024-04-23\",\"2024-04-24\",\"2024-04-25\",\"2024-04-26\",\"2024-04-27\",\"2024-04-28\",\"2024-04-29\",\"2024-04-30\",\"2024-05-01\",\"2024-05-02\",\"2024-05-03\",\"2024-05-04\",\"2024-05-05\",\"2024-05-06\",\"2024-05-07\",\"2024-05-08\",\"2024-05-09\",\"2024-05-10\",\"2024-05-11\",\"2024-05-12\",\"2024-05-13\",\"2024-05-14\",\"2024-05-15\",\"2024-05-16\",\"2024-05-17\",\"2024-05-18\",\"2024-05-19\",\"2024-05-20\",\"2024-05-21\",\"2024-05-22\",\"2024-05-23\",\"2024-05-24\",\"2024-05-25\",\"2024-05-26\",\"2024-05-27\",\"2024-05-28\",\"2024-05-29\",\"2024-05-30\",\"2024-05-31\",\"2024-06-01\",\"2024-06-02\",\"2024-06-03\",\"2024-06-04\",\"2024-06-05\",\"2024-06-06\",\"2024-06-07\",\"2024-06-08\",\"2024-06-09\",\"2024-06-10\",\"2024-06-11\",\"2024-06-12\",\"2024-06-13\",\"2024-06-14\",\"2024-06-15\",\"2024-06-16\",\"2024-06-17\",\"2024-06-18\",\"2024-06-19\",\"2024-06-20\",\"2024-06-21\",\"2024-06-22\",\"2024-06-23\",\"2024-06-24\",\"2024-06-25\",\"2024-06-26\",\"2024-06-27\",\"2024-06-28\",\"2024-06-29\",\"2024-06-30\",\"2024-07-01\",\"2024-07-02\",\"2024-07-03\",\"2024-07-04\",\"2024-07-05\",\"2024-07-06\",\"2024-07-07\",\"2024-07-08\",\"2024-07-09\",\"2024-07-10\",\"2024-07-11\"],\"y\":[0.5476190476190477,0.5529411764705883,0.5465116279069767,0.5465116279069767,0.5517241379310345,0.5454545454545454,0.550561797752809,0.5555555555555556,0.5494505494505495,0.5543478260869565,0.5543478260869565,0.5591397849462365,0.5591397849462365,0.5591397849462365,0.5591397849462365,0.5531914893617021,0.5531914893617021,0.5531914893617021,0.5473684210526316,0.5473684210526316,0.5473684210526316,0.5416666666666666,0.5360824742268041,0.5408163265306123,0.5353535353535354,0.5353535353535354,0.53,0.53,0.53,0.5247524752475248,0.5247524752475248,0.5247524752475248,0.5196078431372549,0.5242718446601942,0.5242718446601942,0.5192307692307693,0.5142857142857142,0.5094339622641509,0.5094339622641509,0.5046728971962616,0.5046728971962616,0.5046728971962616,0.5046728971962616,0.5,0.5,0.4954128440366973,0.4954128440366973,0.5,0.4954954954954955,0.49107142857142855,0.49107142857142855,0.48672566371681414,0.48672566371681414,0.48672566371681414,0.4824561403508772,0.4824561403508772,0.4824561403508772,0.4824561403508772,0.48695652173913045,0.48695652173913045,0.48695652173913045,0.49137931034482757,0.49572649572649574,0.5,0.4957983193277311,0.4957983193277311,0.4957983193277311,0.4957983193277311,0.49166666666666664,0.49166666666666664,0.48760330578512395,0.48360655737704916,0.4878048780487805,0.4878048780487805,0.4838709677419355,0.4838709677419355,0.48,0.48,0.48,0.47619047619047616,0.47619047619047616,0.47619047619047616,0.47619047619047616,0.47244094488188976,0.46875,0.46875,0.46511627906976744,0.46511627906976744,0.46511627906976744,0.46153846153846156,0.46153846153846156,0.4580152671755725,0.45454545454545453,0.45112781954887216,0.44776119402985076,0.4444444444444444,0.4444444444444444,0.4444444444444444,0.4444444444444444,0.4411764705882353,0.4411764705882353,0.4411764705882353,0.43795620437956206,0.43795620437956206,0.43795620437956206,0.4420289855072464,0.4460431654676259,0.4460431654676259,0.4460431654676259,0.4460431654676259,0.4460431654676259,0.4460431654676259,0.44285714285714284,0.44285714285714284,0.44285714285714284,0.44680851063829785,0.44680851063829785,0.4507042253521127,0.4507042253521127,0.45454545454545453,0.4583333333333333,0.45517241379310347,0.45517241379310347,0.45517241379310347,0.45517241379310347,0.45517241379310347,0.4589041095890411,0.4589041095890411,0.46258503401360546,0.46621621621621623,0.46621621621621623,0.46621621621621623,0.46308724832214765],\"type\":\"scatter\"},{\"marker\":{\"color\":\"purple\",\"size\":10},\"mode\":\"markers\",\"x\":[\"2024-03-01\",\"2024-07-11\"],\"y\":[0.5476190476190477,0.46308724832214765],\"type\":\"scatter\"}],                        {\"template\":{\"data\":{\"histogram2dcontour\":[{\"type\":\"histogram2dcontour\",\"colorbar\":{\"outlinewidth\":0,\"ticks\":\"\"},\"colorscale\":[[0.0,\"#0d0887\"],[0.1111111111111111,\"#46039f\"],[0.2222222222222222,\"#7201a8\"],[0.3333333333333333,\"#9c179e\"],[0.4444444444444444,\"#bd3786\"],[0.5555555555555556,\"#d8576b\"],[0.6666666666666666,\"#ed7953\"],[0.7777777777777778,\"#fb9f3a\"],[0.8888888888888888,\"#fdca26\"],[1.0,\"#f0f921\"]]}],\"choropleth\":[{\"type\":\"choropleth\",\"colorbar\":{\"outlinewidth\":0,\"ticks\":\"\"}}],\"histogram2d\":[{\"type\":\"histogram2d\",\"colorbar\":{\"outlinewidth\":0,\"ticks\":\"\"},\"colorscale\":[[0.0,\"#0d0887\"],[0.1111111111111111,\"#46039f\"],[0.2222222222222222,\"#7201a8\"],[0.3333333333333333,\"#9c179e\"],[0.4444444444444444,\"#bd3786\"],[0.5555555555555556,\"#d8576b\"],[0.6666666666666666,\"#ed7953\"],[0.7777777777777778,\"#fb9f3a\"],[0.8888888888888888,\"#fdca26\"],[1.0,\"#f0f921\"]]}],\"heatmap\":[{\"type\":\"heatmap\",\"colorbar\":{\"outlinewidth\":0,\"ticks\":\"\"},\"colorscale\":[[0.0,\"#0d0887\"],[0.1111111111111111,\"#46039f\"],[0.2222222222222222,\"#7201a8\"],[0.3333333333333333,\"#9c179e\"],[0.4444444444444444,\"#bd3786\"],[0.5555555555555556,\"#d8576b\"],[0.6666666666666666,\"#ed7953\"],[0.7777777777777778,\"#fb9f3a\"],[0.8888888888888888,\"#fdca26\"],[1.0,\"#f0f921\"]]}],\"heatmapgl\":[{\"type\":\"heatmapgl\",\"colorbar\":{\"outlinewidth\":0,\"ticks\":\"\"},\"colorscale\":[[0.0,\"#0d0887\"],[0.1111111111111111,\"#46039f\"],[0.2222222222222222,\"#7201a8\"],[0.3333333333333333,\"#9c179e\"],[0.4444444444444444,\"#bd3786\"],[0.5555555555555556,\"#d8576b\"],[0.6666666666666666,\"#ed7953\"],[0.7777777777777778,\"#fb9f3a\"],[0.8888888888888888,\"#fdca26\"],[1.0,\"#f0f921\"]]}],\"contourcarpet\":[{\"type\":\"contourcarpet\",\"colorbar\":{\"outlinewidth\":0,\"ticks\":\"\"}}],\"contour\":[{\"type\":\"contour\",\"colorbar\":{\"outlinewidth\":0,\"ticks\":\"\"},\"colorscale\":[[0.0,\"#0d0887\"],[0.1111111111111111,\"#46039f\"],[0.2222222222222222,\"#7201a8\"],[0.3333333333333333,\"#9c179e\"],[0.4444444444444444,\"#bd3786\"],[0.5555555555555556,\"#d8576b\"],[0.6666666666666666,\"#ed7953\"],[0.7777777777777778,\"#fb9f3a\"],[0.8888888888888888,\"#fdca26\"],[1.0,\"#f0f921\"]]}],\"surface\":[{\"type\":\"surface\",\"colorbar\":{\"outlinewidth\":0,\"ticks\":\"\"},\"colorscale\":[[0.0,\"#0d0887\"],[0.1111111111111111,\"#46039f\"],[0.2222222222222222,\"#7201a8\"],[0.3333333333333333,\"#9c179e\"],[0.4444444444444444,\"#bd3786\"],[0.5555555555555556,\"#d8576b\"],[0.6666666666666666,\"#ed7953\"],[0.7777777777777778,\"#fb9f3a\"],[0.8888888888888888,\"#fdca26\"],[1.0,\"#f0f921\"]]}],\"mesh3d\":[{\"type\":\"mesh3d\",\"colorbar\":{\"outlinewidth\":0,\"ticks\":\"\"}}],\"scatter\":[{\"fillpattern\":{\"fillmode\":\"overlay\",\"size\":10,\"solidity\":0.2},\"type\":\"scatter\"}],\"parcoords\":[{\"type\":\"parcoords\",\"line\":{\"colorbar\":{\"outlinewidth\":0,\"ticks\":\"\"}}}],\"scatterpolargl\":[{\"type\":\"scatterpolargl\",\"marker\":{\"colorbar\":{\"outlinewidth\":0,\"ticks\":\"\"}}}],\"bar\":[{\"error_x\":{\"color\":\"#2a3f5f\"},\"error_y\":{\"color\":\"#2a3f5f\"},\"marker\":{\"line\":{\"color\":\"#E5ECF6\",\"width\":0.5},\"pattern\":{\"fillmode\":\"overlay\",\"size\":10,\"solidity\":0.2}},\"type\":\"bar\"}],\"scattergeo\":[{\"type\":\"scattergeo\",\"marker\":{\"colorbar\":{\"outlinewidth\":0,\"ticks\":\"\"}}}],\"scatterpolar\":[{\"type\":\"scatterpolar\",\"marker\":{\"colorbar\":{\"outlinewidth\":0,\"ticks\":\"\"}}}],\"histogram\":[{\"marker\":{\"pattern\":{\"fillmode\":\"overlay\",\"size\":10,\"solidity\":0.2}},\"type\":\"histogram\"}],\"scattergl\":[{\"type\":\"scattergl\",\"marker\":{\"colorbar\":{\"outlinewidth\":0,\"ticks\":\"\"}}}],\"scatter3d\":[{\"type\":\"scatter3d\",\"line\":{\"colorbar\":{\"outlinewidth\":0,\"ticks\":\"\"}},\"marker\":{\"colorbar\":{\"outlinewidth\":0,\"ticks\":\"\"}}}],\"scattermapbox\":[{\"type\":\"scattermapbox\",\"marker\":{\"colorbar\":{\"outlinewidth\":0,\"ticks\":\"\"}}}],\"scatterternary\":[{\"type\":\"scatterternary\",\"marker\":{\"colorbar\":{\"outlinewidth\":0,\"ticks\":\"\"}}}],\"scattercarpet\":[{\"type\":\"scattercarpet\",\"marker\":{\"colorbar\":{\"outlinewidth\":0,\"ticks\":\"\"}}}],\"carpet\":[{\"aaxis\":{\"endlinecolor\":\"#2a3f5f\",\"gridcolor\":\"white\",\"linecolor\":\"white\",\"minorgridcolor\":\"white\",\"startlinecolor\":\"#2a3f5f\"},\"baxis\":{\"endlinecolor\":\"#2a3f5f\",\"gridcolor\":\"white\",\"linecolor\":\"white\",\"minorgridcolor\":\"white\",\"startlinecolor\":\"#2a3f5f\"},\"type\":\"carpet\"}],\"table\":[{\"cells\":{\"fill\":{\"color\":\"#EBF0F8\"},\"line\":{\"color\":\"white\"}},\"header\":{\"fill\":{\"color\":\"#C8D4E3\"},\"line\":{\"color\":\"white\"}},\"type\":\"table\"}],\"barpolar\":[{\"marker\":{\"line\":{\"color\":\"#E5ECF6\",\"width\":0.5},\"pattern\":{\"fillmode\":\"overlay\",\"size\":10,\"solidity\":0.2}},\"type\":\"barpolar\"}],\"pie\":[{\"automargin\":true,\"type\":\"pie\"}]},\"layout\":{\"autotypenumbers\":\"strict\",\"colorway\":[\"#636efa\",\"#EF553B\",\"#00cc96\",\"#ab63fa\",\"#FFA15A\",\"#19d3f3\",\"#FF6692\",\"#B6E880\",\"#FF97FF\",\"#FECB52\"],\"font\":{\"color\":\"#2a3f5f\"},\"hovermode\":\"closest\",\"hoverlabel\":{\"align\":\"left\"},\"paper_bgcolor\":\"white\",\"plot_bgcolor\":\"#E5ECF6\",\"polar\":{\"bgcolor\":\"#E5ECF6\",\"angularaxis\":{\"gridcolor\":\"white\",\"linecolor\":\"white\",\"ticks\":\"\"},\"radialaxis\":{\"gridcolor\":\"white\",\"linecolor\":\"white\",\"ticks\":\"\"}},\"ternary\":{\"bgcolor\":\"#E5ECF6\",\"aaxis\":{\"gridcolor\":\"white\",\"linecolor\":\"white\",\"ticks\":\"\"},\"baxis\":{\"gridcolor\":\"white\",\"linecolor\":\"white\",\"ticks\":\"\"},\"caxis\":{\"gridcolor\":\"white\",\"linecolor\":\"white\",\"ticks\":\"\"}},\"coloraxis\":{\"colorbar\":{\"outlinewidth\":0,\"ticks\":\"\"}},\"colorscale\":{\"sequential\":[[0.0,\"#0d0887\"],[0.1111111111111111,\"#46039f\"],[0.2222222222222222,\"#7201a8\"],[0.3333333333333333,\"#9c179e\"],[0.4444444444444444,\"#bd3786\"],[0.5555555555555556,\"#d8576b\"],[0.6666666666666666,\"#ed7953\"],[0.7777777777777778,\"#fb9f3a\"],[0.8888888888888888,\"#fdca26\"],[1.0,\"#f0f921\"]],\"sequentialminus\":[[0.0,\"#0d0887\"],[0.1111111111111111,\"#46039f\"],[0.2222222222222222,\"#7201a8\"],[0.3333333333333333,\"#9c179e\"],[0.4444444444444444,\"#bd3786\"],[0.5555555555555556,\"#d8576b\"],[0.6666666666666666,\"#ed7953\"],[0.7777777777777778,\"#fb9f3a\"],[0.8888888888888888,\"#fdca26\"],[1.0,\"#f0f921\"]],\"diverging\":[[0,\"#8e0152\"],[0.1,\"#c51b7d\"],[0.2,\"#de77ae\"],[0.3,\"#f1b6da\"],[0.4,\"#fde0ef\"],[0.5,\"#f7f7f7\"],[0.6,\"#e6f5d0\"],[0.7,\"#b8e186\"],[0.8,\"#7fbc41\"],[0.9,\"#4d9221\"],[1,\"#276419\"]]},\"xaxis\":{\"gridcolor\":\"white\",\"linecolor\":\"white\",\"ticks\":\"\",\"title\":{\"standoff\":15},\"zerolinecolor\":\"white\",\"automargin\":true,\"zerolinewidth\":2},\"yaxis\":{\"gridcolor\":\"white\",\"linecolor\":\"white\",\"ticks\":\"\",\"title\":{\"standoff\":15},\"zerolinecolor\":\"white\",\"automargin\":true,\"zerolinewidth\":2},\"scene\":{\"xaxis\":{\"backgroundcolor\":\"#E5ECF6\",\"gridcolor\":\"white\",\"linecolor\":\"white\",\"showbackground\":true,\"ticks\":\"\",\"zerolinecolor\":\"white\",\"gridwidth\":2},\"yaxis\":{\"backgroundcolor\":\"#E5ECF6\",\"gridcolor\":\"white\",\"linecolor\":\"white\",\"showbackground\":true,\"ticks\":\"\",\"zerolinecolor\":\"white\",\"gridwidth\":2},\"zaxis\":{\"backgroundcolor\":\"#E5ECF6\",\"gridcolor\":\"white\",\"linecolor\":\"white\",\"showbackground\":true,\"ticks\":\"\",\"zerolinecolor\":\"white\",\"gridwidth\":2}},\"shapedefaults\":{\"line\":{\"color\":\"#2a3f5f\"}},\"annotationdefaults\":{\"arrowcolor\":\"#2a3f5f\",\"arrowhead\":0,\"arrowwidth\":1},\"geo\":{\"bgcolor\":\"white\",\"landcolor\":\"#E5ECF6\",\"subunitcolor\":\"white\",\"showland\":true,\"showlakes\":true,\"lakecolor\":\"white\"},\"title\":{\"x\":0.05},\"mapbox\":{\"style\":\"light\"}}},\"xaxis\":{\"tickfont\":{\"family\":\"Arial\",\"size\":12,\"color\":\"rgb(82, 82, 82)\"},\"showline\":true,\"showgrid\":true,\"showticklabels\":true,\"linecolor\":\"rgb(0, 0, 0)\",\"linewidth\":2,\"ticks\":\"outside\"},\"yaxis\":{\"showgrid\":true,\"zeroline\":false,\"showline\":true,\"showticklabels\":false},\"margin\":{\"autoexpand\":false,\"l\":100,\"r\":20,\"t\":110},\"autosize\":false,\"showlegend\":false,\"plot_bgcolor\":\"white\",\"annotations\":[{\"font\":{\"color\":\"purple\",\"family\":\"Arial\",\"size\":14},\"showarrow\":false,\"text\":\"Recall 55%\",\"x\":0.05,\"xanchor\":\"right\",\"xref\":\"paper\",\"y\":0.5476190476190477,\"yanchor\":\"middle\"},{\"font\":{\"color\":\"purple\",\"family\":\"Arial\",\"size\":14},\"showarrow\":false,\"text\":\"46.31%\",\"x\":0.95,\"xanchor\":\"left\",\"xref\":\"paper\",\"y\":0.46,\"yanchor\":\"middle\"},{\"font\":{\"color\":\"blue\",\"family\":\"Arial\",\"size\":14},\"showarrow\":false,\"text\":\"Precision 61%\",\"x\":0.05,\"xanchor\":\"right\",\"xref\":\"paper\",\"y\":0.6052631578947368,\"yanchor\":\"middle\"},{\"font\":{\"color\":\"blue\",\"family\":\"Arial\",\"size\":14},\"showarrow\":false,\"text\":\"56.1%\",\"x\":0.95,\"xanchor\":\"left\",\"xref\":\"paper\",\"y\":0.56,\"yanchor\":\"middle\"},{\"font\":{\"color\":\"rgb(37,37,37)\",\"family\":\"Arial\",\"size\":30},\"showarrow\":false,\"text\":\"Gradient boost\",\"x\":0.0,\"xanchor\":\"left\",\"xref\":\"paper\",\"y\":1.05,\"yanchor\":\"bottom\",\"yref\":\"paper\"}]},                        {\"responsive\": true}                    ).then(function(){\n",
       "                            \n",
       "var gd = document.getElementById('2e3dc0e9-b386-4522-83a0-a3dd90af564b');\n",
       "var x = new MutationObserver(function (mutations, observer) {{\n",
       "        var display = window.getComputedStyle(gd).display;\n",
       "        if (!display || display === 'none') {{\n",
       "            console.log([gd, 'removed!']);\n",
       "            Plotly.purge(gd);\n",
       "            observer.disconnect();\n",
       "        }}\n",
       "}});\n",
       "\n",
       "// Listen for the removal of the full notebook cells\n",
       "var notebookContainer = gd.closest('#notebook-container');\n",
       "if (notebookContainer) {{\n",
       "    x.observe(notebookContainer, {childList: true});\n",
       "}}\n",
       "\n",
       "// Listen for the clearing of the current output cell\n",
       "var outputEl = gd.closest('.output');\n",
       "if (outputEl) {{\n",
       "    x.observe(outputEl, {childList: true});\n",
       "}}\n",
       "\n",
       "                        })                };                });            </script>        </div>"
      ]
     },
     "metadata": {},
     "output_type": "display_data"
    }
   ],
   "source": [
    "figure = GraphBTC(\"Gradient Boost\", df, [\"total\"]).get_graph()\n",
    "figure.show()"
   ]
  },
  {
   "cell_type": "code",
   "execution_count": null,
   "id": "6265b17e-700f-41a2-ae6d-7846a1ad2eea",
   "metadata": {},
   "outputs": [],
   "source": []
  }
 ],
 "metadata": {
  "kernelspec": {
   "display_name": "Python 3 (ipykernel)",
   "language": "python",
   "name": "python3"
  },
  "language_info": {
   "codemirror_mode": {
    "name": "ipython",
    "version": 3
   },
   "file_extension": ".py",
   "mimetype": "text/x-python",
   "name": "python",
   "nbconvert_exporter": "python",
   "pygments_lexer": "ipython3",
   "version": "3.11.7"
  }
 },
 "nbformat": 4,
 "nbformat_minor": 5
}
